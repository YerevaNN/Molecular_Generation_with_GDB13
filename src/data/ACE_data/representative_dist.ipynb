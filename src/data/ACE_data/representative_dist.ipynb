{
 "cells": [
  {
   "cell_type": "code",
   "execution_count": 1,
   "metadata": {},
   "outputs": [],
   "source": [
    "import glob\n",
    "from tqdm import tqdm\n",
    "import matplotlib.pyplot as plt"
   ]
  },
  {
   "cell_type": "code",
   "execution_count": 2,
   "metadata": {},
   "outputs": [
    {
     "data": {
      "text/plain": [
       "95"
      ]
     },
     "execution_count": 2,
     "metadata": {},
     "output_type": "execute_result"
    }
   ],
   "source": [
    "file_names = glob.glob(\"/nfs/h100/raid/chem/cf_17/*.txt\")\n",
    "len(file_names)"
   ]
  },
  {
   "cell_type": "code",
   "execution_count": 3,
   "metadata": {},
   "outputs": [
    {
     "name": "stderr",
     "output_type": "stream",
     "text": [
      "  0%|          | 0/95 [00:00<?, ?it/s]"
     ]
    },
    {
     "name": "stderr",
     "output_type": "stream",
     "text": [
      "100%|██████████| 95/95 [00:31<00:00,  3.05it/s]\n"
     ]
    }
   ],
   "source": [
    "len_freqs = {}\n",
    "\n",
    "\n",
    "for f in tqdm(file_names):\n",
    "    with open(f, \"r\") as f:\n",
    "        l = len(f.readlines())\n",
    "        len_freqs[l] = len_freqs.get(l, 0) + 1\n"
   ]
  },
  {
   "cell_type": "code",
   "execution_count": 4,
   "metadata": {},
   "outputs": [
    {
     "data": {
      "text/plain": [
       "{12: 4,\n",
       " 186: 2,\n",
       " 396: 2,\n",
       " 408: 8,\n",
       " 3852: 4,\n",
       " 13068: 1,\n",
       " 13254: 4,\n",
       " 27324: 4,\n",
       " 164412: 2,\n",
       " 171912: 1,\n",
       " 300000: 58,\n",
       " 336528: 2,\n",
       " 1269492: 2,\n",
       " 17571912: 1}"
      ]
     },
     "execution_count": 4,
     "metadata": {},
     "output_type": "execute_result"
    }
   ],
   "source": [
    "sorted_len_freqs = dict(sorted(len_freqs.items(), key=lambda i: i[0]))\n",
    "sorted_len_freqs"
   ]
  },
  {
   "cell_type": "code",
   "execution_count": 5,
   "metadata": {},
   "outputs": [
    {
     "name": "stderr",
     "output_type": "stream",
     "text": [
      "100%|██████████| 95/95 [00:07<00:00, 12.16it/s]\n"
     ]
    }
   ],
   "source": [
    "len_fname_freqs = {}\n",
    "\n",
    "\n",
    "for fname in tqdm(file_names):\n",
    "    with open(fname, \"r\") as f:\n",
    "        l = len(f.readlines())\n",
    "        if l in len_fname_freqs:\n",
    "            len_fname_freqs[l].append(fname)\n",
    "        else:\n",
    "            len_fname_freqs[l] = [fname]    "
   ]
  },
  {
   "cell_type": "code",
   "execution_count": 6,
   "metadata": {},
   "outputs": [
    {
     "data": {
      "text/plain": [
       "['/nfs/h100/raid/chem/cf_17/big-card-customer-inserts-small.txt',\n",
       " '/nfs/h100/raid/chem/cf_17/big-card-customer-small-uses.txt']"
      ]
     },
     "execution_count": 6,
     "metadata": {},
     "output_type": "execute_result"
    }
   ],
   "source": [
    "len_fname_freqs[336528]"
   ]
  },
  {
   "cell_type": "code",
   "execution_count": null,
   "metadata": {},
   "outputs": [],
   "source": []
  },
  {
   "cell_type": "code",
   "execution_count": null,
   "metadata": {},
   "outputs": [],
   "source": []
  },
  {
   "cell_type": "code",
   "execution_count": 7,
   "metadata": {},
   "outputs": [],
   "source": [
    "import os\n",
    "import time\n",
    "import nltk\n",
    "from nltk import CFG\n",
    "from nltk.parse.generate import generate\n",
    "from tqdm import tqdm\n",
    "\n",
    "from nltk import CFG, ChartParser"
   ]
  },
  {
   "cell_type": "code",
   "execution_count": 2,
   "metadata": {},
   "outputs": [
    {
     "name": "stdout",
     "output_type": "stream",
     "text": [
      "\n",
      "S -> NP VP\n",
      "\n",
      "NP -> HumanNP | NonHumanNP\n",
      "\n",
      "HumanNP -> Det HumanN | Det Adj HumanN | HumanNP RelClauseWho\n",
      "\n",
      "NonHumanNP -> Det NonHumanN | Det Adj NonHumanN | NonHumanNP RelClauseThat\n",
      "\n",
      "RelClauseWho -> 'who' VP\n",
      "RelClauseThat -> 'that' VP\n",
      "\n",
      "VP -> V NP\n",
      "\n",
      "Det -> 'a'\n",
      "Adj -> 'big' | 'small'\n",
      "HumanN -> 'customer'\n",
      "NonHumanN -> 'card'\n",
      "V -> 'inserts' | 'uses'\n",
      "\n"
     ]
    }
   ],
   "source": [
    "grammar_text = \"\"\"\n",
    "S -> NP VP\n",
    "\n",
    "NP -> HumanNP | NonHumanNP\n",
    "\n",
    "HumanNP -> Det HumanN | Det Adj HumanN | HumanNP2 RelClauseWho\n",
    "HumanNP2 -> Det HumanN | Det Adj HumanN\n",
    "\n",
    "NonHumanNP -> Det NonHumanN | Det Adj NonHumanN | NonHumanNP2 RelClauseThat\n",
    "NonHumanNP2 -> Det NonHumanN | Det Adj NonHumanN \n",
    "\n",
    "RelClauseWho -> 'who' VP\n",
    "RelClauseThat -> 'that' VP\n",
    "\n",
    "VP -> V NP\n",
    "\n",
    "Det -> 'a'\n",
    "Adj -> 'big' | 'small'\n",
    "HumanN -> 'customer' \n",
    "NonHumanN -> 'card'\n",
    "V -> 'inserts' | 'uses'\n",
    "\"\"\"\n",
    "print(grammar_text)\n",
    "\n",
    "grammar = CFG.fromstring(grammar_text)\n"
   ]
  },
  {
   "cell_type": "code",
   "execution_count": 6,
   "metadata": {},
   "outputs": [],
   "source": [
    "grammar.check_coverage(\"a big customer who inserts a big card who inserts a big card who inserts a small customer inserts a small customer who uses a big card who uses a big customer\".split(\" \"))"
   ]
  },
  {
   "cell_type": "code",
   "execution_count": 9,
   "metadata": {},
   "outputs": [
    {
     "name": "stdout",
     "output_type": "stream",
     "text": [
      "                                                                                                                                  S                                                                                                                                  \n",
      "                                                                               ___________________________________________________|____________________________________________________________                                                                       \n",
      "                                                                              NP                                                                                                               |                                                                     \n",
      "                                                                              |                                                                                                                |                                                                      \n",
      "                                                                           HumanNP                                                                                                             VP                                                                    \n",
      "                                                           ___________________|___________________________________________________________________                                 ____________|____________________                                                  \n",
      "                                                       HumanNP                                                                                    |                               |                                 NP                                               \n",
      "                         _________________________________|_____________________________________                                                  |                               |                                 |                                                 \n",
      "                     HumanNP                                                                    |                                                 |                               |                             NonHumanNP                                           \n",
      "        ________________|_________________                                                      |                                                 |                               |             ____________________|____________________                             \n",
      "       |                             RelClauseWho                                          RelClauseWho                                      RelClauseWho                         |            |                                   RelClauseThat                     \n",
      "       |                 _________________|________                            _________________|________                          _______________|________                       |            |                     ____________________|________                    \n",
      "       |                |                          VP                         |                          VP                       |                        VP                     |            |                    |                             VP                 \n",
      "       |                |        __________________|______                    |        __________________|______                  |      __________________|_____                 |            |                    |          ___________________|_____              \n",
      "       |                |       |                         NP                  |       |                         NP                |     |                        NP               |            |                    |         |                         NP           \n",
      "       |                |       |                         |                   |       |                         |                 |     |                        |                |            |                    |         |                         |             \n",
      "    HumanNP             |       |                     NonHumanNP              |       |                     NonHumanNP            |     |                     HumanNP             |        NonHumanNP               |         |                      HumanNP         \n",
      "  _____|_______         |       |          _______________|__________         |       |          _______________|__________       |     |          ______________|_______         |      ______|__________          |         |           ______________|_______      \n",
      "Det   Adj    HumanN     |       V        Det             Adj     NonHumanN    |       V        Det             Adj     NonHumanN  |     V        Det            Adj    HumanN     V    Det    Adj     NonHumanN     |         V         Det            Adj    HumanN \n",
      " |     |       |        |       |         |               |          |        |       |         |               |          |      |     |         |              |       |        |     |      |          |         |         |          |              |       |     \n",
      " a    big   customer   who   inserts      a              big        card     who   inserts      a              big        card   who inserts      a            small  customer inserts  a    small       card      that    inserts       a             big   customer\n",
      "\n"
     ]
    },
    {
     "ename": "TclError",
     "evalue": "no display name and no $DISPLAY environment variable",
     "output_type": "error",
     "traceback": [
      "\u001b[0;31m---------------------------------------------------------------------------\u001b[0m",
      "\u001b[0;31mTclError\u001b[0m                                  Traceback (most recent call last)",
      "Cell \u001b[0;32mIn[9], line 10\u001b[0m\n\u001b[1;32m      8\u001b[0m \u001b[38;5;28;01mfor\u001b[39;00m tree \u001b[38;5;129;01min\u001b[39;00m trees:\n\u001b[1;32m      9\u001b[0m     tree\u001b[38;5;241m.\u001b[39mpretty_print()  \u001b[38;5;66;03m# prints an ASCII tree in the console\u001b[39;00m\n\u001b[0;32m---> 10\u001b[0m     \u001b[43mtree\u001b[49m\u001b[38;5;241;43m.\u001b[39;49m\u001b[43mdraw\u001b[49m\u001b[43m(\u001b[49m\u001b[43m)\u001b[49m          \n",
      "File \u001b[0;32m~/miniconda3/envs/molgen/lib/python3.11/site-packages/nltk/tree/tree.py:761\u001b[0m, in \u001b[0;36mTree.draw\u001b[0;34m(self)\u001b[0m\n\u001b[1;32m    756\u001b[0m \u001b[38;5;250m\u001b[39m\u001b[38;5;124;03m\"\"\"\u001b[39;00m\n\u001b[1;32m    757\u001b[0m \u001b[38;5;124;03mOpen a new window containing a graphical diagram of this tree.\u001b[39;00m\n\u001b[1;32m    758\u001b[0m \u001b[38;5;124;03m\"\"\"\u001b[39;00m\n\u001b[1;32m    759\u001b[0m \u001b[38;5;28;01mfrom\u001b[39;00m \u001b[38;5;21;01mnltk\u001b[39;00m\u001b[38;5;21;01m.\u001b[39;00m\u001b[38;5;21;01mdraw\u001b[39;00m\u001b[38;5;21;01m.\u001b[39;00m\u001b[38;5;21;01mtree\u001b[39;00m \u001b[38;5;28;01mimport\u001b[39;00m draw_trees\n\u001b[0;32m--> 761\u001b[0m \u001b[43mdraw_trees\u001b[49m\u001b[43m(\u001b[49m\u001b[38;5;28;43mself\u001b[39;49m\u001b[43m)\u001b[49m\n",
      "File \u001b[0;32m~/miniconda3/envs/molgen/lib/python3.11/site-packages/nltk/draw/tree.py:1008\u001b[0m, in \u001b[0;36mdraw_trees\u001b[0;34m(*trees)\u001b[0m\n\u001b[1;32m   1001\u001b[0m \u001b[38;5;28;01mdef\u001b[39;00m \u001b[38;5;21mdraw_trees\u001b[39m(\u001b[38;5;241m*\u001b[39mtrees):\n\u001b[1;32m   1002\u001b[0m \u001b[38;5;250m    \u001b[39m\u001b[38;5;124;03m\"\"\"\u001b[39;00m\n\u001b[1;32m   1003\u001b[0m \u001b[38;5;124;03m    Open a new window containing a graphical diagram of the given\u001b[39;00m\n\u001b[1;32m   1004\u001b[0m \u001b[38;5;124;03m    trees.\u001b[39;00m\n\u001b[1;32m   1005\u001b[0m \n\u001b[1;32m   1006\u001b[0m \u001b[38;5;124;03m    :rtype: None\u001b[39;00m\n\u001b[1;32m   1007\u001b[0m \u001b[38;5;124;03m    \"\"\"\u001b[39;00m\n\u001b[0;32m-> 1008\u001b[0m     \u001b[43mTreeView\u001b[49m\u001b[43m(\u001b[49m\u001b[38;5;241;43m*\u001b[39;49m\u001b[43mtrees\u001b[49m\u001b[43m)\u001b[49m\u001b[38;5;241m.\u001b[39mmainloop()\n\u001b[1;32m   1009\u001b[0m     \u001b[38;5;28;01mreturn\u001b[39;00m\n",
      "File \u001b[0;32m~/miniconda3/envs/molgen/lib/python3.11/site-packages/nltk/draw/tree.py:859\u001b[0m, in \u001b[0;36mTreeView.__init__\u001b[0;34m(self, *trees)\u001b[0m\n\u001b[1;32m    855\u001b[0m \u001b[38;5;28;01mfrom\u001b[39;00m \u001b[38;5;21;01mmath\u001b[39;00m \u001b[38;5;28;01mimport\u001b[39;00m ceil, sqrt\n\u001b[1;32m    857\u001b[0m \u001b[38;5;28mself\u001b[39m\u001b[38;5;241m.\u001b[39m_trees \u001b[38;5;241m=\u001b[39m trees\n\u001b[0;32m--> 859\u001b[0m \u001b[38;5;28mself\u001b[39m\u001b[38;5;241m.\u001b[39m_top \u001b[38;5;241m=\u001b[39m \u001b[43mTk\u001b[49m\u001b[43m(\u001b[49m\u001b[43m)\u001b[49m\n\u001b[1;32m    860\u001b[0m \u001b[38;5;28mself\u001b[39m\u001b[38;5;241m.\u001b[39m_top\u001b[38;5;241m.\u001b[39mtitle(\u001b[38;5;124m\"\u001b[39m\u001b[38;5;124mNLTK\u001b[39m\u001b[38;5;124m\"\u001b[39m)\n\u001b[1;32m    861\u001b[0m \u001b[38;5;28mself\u001b[39m\u001b[38;5;241m.\u001b[39m_top\u001b[38;5;241m.\u001b[39mbind(\u001b[38;5;124m\"\u001b[39m\u001b[38;5;124m<Control-x>\u001b[39m\u001b[38;5;124m\"\u001b[39m, \u001b[38;5;28mself\u001b[39m\u001b[38;5;241m.\u001b[39mdestroy)\n",
      "File \u001b[0;32m~/miniconda3/envs/molgen/lib/python3.11/tkinter/__init__.py:2326\u001b[0m, in \u001b[0;36mTk.__init__\u001b[0;34m(self, screenName, baseName, className, useTk, sync, use)\u001b[0m\n\u001b[1;32m   2324\u001b[0m         baseName \u001b[38;5;241m=\u001b[39m baseName \u001b[38;5;241m+\u001b[39m ext\n\u001b[1;32m   2325\u001b[0m interactive \u001b[38;5;241m=\u001b[39m \u001b[38;5;28;01mFalse\u001b[39;00m\n\u001b[0;32m-> 2326\u001b[0m \u001b[38;5;28mself\u001b[39m\u001b[38;5;241m.\u001b[39mtk \u001b[38;5;241m=\u001b[39m \u001b[43m_tkinter\u001b[49m\u001b[38;5;241;43m.\u001b[39;49m\u001b[43mcreate\u001b[49m\u001b[43m(\u001b[49m\u001b[43mscreenName\u001b[49m\u001b[43m,\u001b[49m\u001b[43m \u001b[49m\u001b[43mbaseName\u001b[49m\u001b[43m,\u001b[49m\u001b[43m \u001b[49m\u001b[43mclassName\u001b[49m\u001b[43m,\u001b[49m\u001b[43m \u001b[49m\u001b[43minteractive\u001b[49m\u001b[43m,\u001b[49m\u001b[43m \u001b[49m\u001b[43mwantobjects\u001b[49m\u001b[43m,\u001b[49m\u001b[43m \u001b[49m\u001b[43museTk\u001b[49m\u001b[43m,\u001b[49m\u001b[43m \u001b[49m\u001b[43msync\u001b[49m\u001b[43m,\u001b[49m\u001b[43m \u001b[49m\u001b[43muse\u001b[49m\u001b[43m)\u001b[49m\n\u001b[1;32m   2327\u001b[0m \u001b[38;5;28;01mif\u001b[39;00m useTk:\n\u001b[1;32m   2328\u001b[0m     \u001b[38;5;28mself\u001b[39m\u001b[38;5;241m.\u001b[39m_loadtk()\n",
      "\u001b[0;31mTclError\u001b[0m: no display name and no $DISPLAY environment variable"
     ]
    }
   ],
   "source": [
    "\n",
    "grammar = CFG.fromstring(grammar_text)\n",
    "parser = ChartParser(grammar)\n",
    "\n",
    "sentence = \"a big customer who inserts a big card who inserts a big card who inserts a small customer inserts a small card that inserts a big customer\".split()\n",
    "\n",
    "# Parse the sentence. (There might be more than one derivation.)\n",
    "trees = list(parser.parse(sentence))\n",
    "for tree in trees:\n",
    "    tree.pretty_print()  # prints an ASCII tree in the console\n",
    "    tree.draw()          "
   ]
  },
  {
   "cell_type": "code",
   "execution_count": null,
   "metadata": {},
   "outputs": [],
   "source": []
  }
 ],
 "metadata": {
  "kernelspec": {
   "display_name": "molgen",
   "language": "python",
   "name": "python3"
  },
  "language_info": {
   "codemirror_mode": {
    "name": "ipython",
    "version": 3
   },
   "file_extension": ".py",
   "mimetype": "text/x-python",
   "name": "python",
   "nbconvert_exporter": "python",
   "pygments_lexer": "ipython3",
   "version": "3.11.7"
  }
 },
 "nbformat": 4,
 "nbformat_minor": 2
}
