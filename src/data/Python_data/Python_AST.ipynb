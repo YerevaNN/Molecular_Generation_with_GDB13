{
 "cells": [
  {
   "cell_type": "code",
   "execution_count": 1,
   "metadata": {},
   "outputs": [],
   "source": [
    "import ast\n",
    "import dis\n",
    "import astpretty"
   ]
  },
  {
   "cell_type": "markdown",
   "metadata": {},
   "source": [
    "# Parsing: ast module"
   ]
  },
  {
   "cell_type": "code",
   "execution_count": 2,
   "metadata": {},
   "outputs": [],
   "source": [
    "code = \"one_plus_two=1+2\"\n",
    "code = \"print('hello there.')\"\n",
    "code1 = \"a=1\"\n",
    "code2 = \"b=1\"\n",
    "\n",
    "code6 = \"\"\"    \n",
    "x = 80\n",
    "a = 100\n",
    "g = 238\n",
    "\n",
    "# Multiplies\n",
    "def mul(x, y):\n",
    "    return x*y\n",
    "\n",
    "print(g + a)\n",
    "z = mul(x, k)\n",
    "\"\"\""
   ]
  },
  {
   "cell_type": "code",
   "execution_count": 3,
   "metadata": {},
   "outputs": [],
   "source": [
    "code_11 = \"\"\"\n",
    "c = 7\n",
    "b = 7\n",
    "if a > 7 :\n",
    "    print(a)\n",
    "\"\"\""
   ]
  },
  {
   "cell_type": "code",
   "execution_count": 7,
   "metadata": {},
   "outputs": [
    {
     "name": "stdout",
     "output_type": "stream",
     "text": [
      "b'\\x97\\x00d\\x00Z\\x00d\\x00Z\\x01e\\x02d\\x00k\\x04\\x00\\x00\\x00\\x00r\\r\\x02\\x00e\\x03e\\x02\\xa6\\x01\\x00\\x00\\xab\\x01\\x00\\x00\\x00\\x00\\x00\\x00\\x00\\x00\\x01\\x00d\\x01S\\x00d\\x01S\\x00'\n"
     ]
    }
   ],
   "source": [
    "tree0 = ast.parse(code_11, mode=\"exec\")\n",
    "b0 = compile(tree0, \"<string>\", mode=\"exec\")\n",
    "print(b0.co_code)"
   ]
  },
  {
   "cell_type": "code",
   "execution_count": 29,
   "metadata": {},
   "outputs": [
    {
     "name": "stdout",
     "output_type": "stream",
     "text": [
      "Module(\n",
      "  body=[\n",
      "    Assign(\n",
      "      targets=[\n",
      "        Name(id='a', ctx=Store())],\n",
      "      value=Constant(value=100)),\n",
      "    Assign(\n",
      "      targets=[\n",
      "        Name(id='b', ctx=Store())],\n",
      "      value=Constant(value=238)),\n",
      "    Expr(\n",
      "      value=Call(\n",
      "        func=Name(id='print', ctx=Load()),\n",
      "        args=[\n",
      "          BinOp(\n",
      "            left=Name(id='b', ctx=Load()),\n",
      "            op=Add(),\n",
      "            right=Name(id='a', ctx=Load()))],\n",
      "        keywords=[]))],\n",
      "  type_ignores=[])\n"
     ]
    }
   ],
   "source": [
    "# Get AST \n",
    "tree = ast.parse(code6, mode=\"exec\") # k is undefined, but it didn't catch the error\n",
    "print(ast.dump(tree, indent=2))\n",
    "# astpretty.pprint(tree)"
   ]
  },
  {
   "cell_type": "code",
   "execution_count": 5,
   "metadata": {},
   "outputs": [],
   "source": [
    "# Idea! Make all variables and const with the same value\n",
    "\n",
    "code06 = \"\"\"    \n",
    "a = 1\n",
    "a = 1\n",
    "a = 1\n",
    "\n",
    "# Multiplies\n",
    "def mul(a, a):\n",
    "    return a*a\n",
    "\n",
    "print(a + a)\n",
    "z = mul(a, a)\n",
    "\"\"\""
   ]
  },
  {
   "cell_type": "code",
   "execution_count": 6,
   "metadata": {},
   "outputs": [
    {
     "name": "stdout",
     "output_type": "stream",
     "text": [
      "Module(\n",
      "  body=[\n",
      "    Assign(\n",
      "      targets=[\n",
      "        Name(id='a', ctx=Store())],\n",
      "      value=Constant(value=1)),\n",
      "    Assign(\n",
      "      targets=[\n",
      "        Name(id='a', ctx=Store())],\n",
      "      value=Constant(value=1)),\n",
      "    Assign(\n",
      "      targets=[\n",
      "        Name(id='a', ctx=Store())],\n",
      "      value=Constant(value=1)),\n",
      "    FunctionDef(\n",
      "      name='mul',\n",
      "      args=arguments(\n",
      "        posonlyargs=[],\n",
      "        args=[\n",
      "          arg(arg='a'),\n",
      "          arg(arg='a')],\n",
      "        kwonlyargs=[],\n",
      "        kw_defaults=[],\n",
      "        defaults=[]),\n",
      "      body=[\n",
      "        Return(\n",
      "          value=BinOp(\n",
      "            left=Name(id='a', ctx=Load()),\n",
      "            op=Mult(),\n",
      "            right=Name(id='a', ctx=Load())))],\n",
      "      decorator_list=[]),\n",
      "    Expr(\n",
      "      value=Call(\n",
      "        func=Name(id='print', ctx=Load()),\n",
      "        args=[\n",
      "          BinOp(\n",
      "            left=Name(id='a', ctx=Load()),\n",
      "            op=Add(),\n",
      "            right=Name(id='a', ctx=Load()))],\n",
      "        keywords=[])),\n",
      "    Assign(\n",
      "      targets=[\n",
      "        Name(id='z', ctx=Store())],\n",
      "      value=Call(\n",
      "        func=Name(id='mul', ctx=Load()),\n",
      "        args=[\n",
      "          Name(id='a', ctx=Load()),\n",
      "          Name(id='a', ctx=Load())],\n",
      "        keywords=[]))],\n",
      "  type_ignores=[])\n"
     ]
    }
   ],
   "source": [
    "print(ast.dump(ast.parse(code06), indent=2))"
   ]
  },
  {
   "cell_type": "code",
   "execution_count": 7,
   "metadata": {},
   "outputs": [
    {
     "name": "stdout",
     "output_type": "stream",
     "text": [
      "x = 80\n",
      "a = 100\n",
      "g = 238\n",
      "\n",
      "def mul(x, y):\n",
      "    return x * y\n",
      "print(g + a)\n",
      "z = mul(x, k)\n"
     ]
    }
   ],
   "source": [
    "# From AST back to src code\n",
    "print(ast.unparse(tree))"
   ]
  },
  {
   "cell_type": "code",
   "execution_count": null,
   "metadata": {},
   "outputs": [],
   "source": []
  },
  {
   "cell_type": "code",
   "execution_count": 8,
   "metadata": {},
   "outputs": [
    {
     "name": "stdout",
     "output_type": "stream",
     "text": [
      "Module\n",
      "Assign\n",
      "Assign\n",
      "Assign\n",
      "FunctionDef\n"
     ]
    }
   ],
   "source": [
    "# Traverse AST \n",
    "for i, node in enumerate(ast.walk(tree)):\n",
    "    print(type(node).__name__)\n",
    "\n",
    "    if i == 4:\n",
    "        break"
   ]
  },
  {
   "cell_type": "code",
   "execution_count": 9,
   "metadata": {},
   "outputs": [
    {
     "name": "stdout",
     "output_type": "stream",
     "text": [
      "x = 99\n"
     ]
    }
   ],
   "source": [
    "# Modifing tree\n",
    "\n",
    "class ReplaceAdd(ast.NodeTransformer):\n",
    "    def visit_BinOp(self, node):\n",
    "        self.generic_visit(node)\n",
    "        if (isinstance(node.op, ast.Add) and \n",
    "            isinstance(node.left, ast.Constant) and node.left.value == 2 and \n",
    "            isinstance(node.right, ast.Constant) and node.right.value == 3):\n",
    "            return ast.Constant(value=99)\n",
    "        return node\n",
    "\n",
    "code = \"x = 2 + 3\"\n",
    "tree_exp = ast.parse(code)\n",
    "new_tree = ReplaceAdd().visit(tree_exp)\n",
    "new_code = ast.unparse(new_tree)\n",
    "print(new_code)  #"
   ]
  },
  {
   "cell_type": "markdown",
   "metadata": {},
   "source": [
    "### Types of errors\n",
    "- Parsing time\n",
    "    - Missing punctuation (e.g., :, ), ], }).\n",
    "    - Incorrect indentation.\n",
    "    - Invalid use of keywords or operators.\n",
    "    - Incomplete statements.\n",
    "- Compilation time\n",
    "    - due to invalid ASTs (e.g., after manual modification) or incorrect arguments.\n",
    "- Execution time\n",
    "    - logical errors\n",
    "    - NameError, ..."
   ]
  },
  {
   "cell_type": "code",
   "execution_count": 10,
   "metadata": {},
   "outputs": [
    {
     "ename": "NameError",
     "evalue": "name 'v' is not defined",
     "output_type": "error",
     "traceback": [
      "\u001b[0;31m---------------------------------------------------------------------------\u001b[0m",
      "\u001b[0;31mNameError\u001b[0m                                 Traceback (most recent call last)",
      "Cell \u001b[0;32mIn[10], line 2\u001b[0m\n\u001b[1;32m      1\u001b[0m \u001b[38;5;66;03m# Only execution time error \u001b[39;00m\n\u001b[0;32m----> 2\u001b[0m \u001b[43mexec\u001b[49m\u001b[43m(\u001b[49m\u001b[38;5;28;43mcompile\u001b[39;49m\u001b[43m(\u001b[49m\u001b[43mast\u001b[49m\u001b[38;5;241;43m.\u001b[39;49m\u001b[43mparse\u001b[49m\u001b[43m(\u001b[49m\u001b[38;5;124;43m\"\u001b[39;49m\u001b[38;5;124;43mprint(v)\u001b[39;49m\u001b[38;5;124;43m\"\u001b[39;49m\u001b[43m)\u001b[49m\u001b[43m,\u001b[49m\u001b[43m \u001b[49m\u001b[38;5;124;43m'\u001b[39;49m\u001b[38;5;124;43m<string>\u001b[39;49m\u001b[38;5;124;43m'\u001b[39;49m\u001b[43m,\u001b[49m\u001b[43m \u001b[49m\u001b[43mmode\u001b[49m\u001b[38;5;241;43m=\u001b[39;49m\u001b[38;5;124;43m\"\u001b[39;49m\u001b[38;5;124;43mexec\u001b[39;49m\u001b[38;5;124;43m\"\u001b[39;49m\u001b[43m)\u001b[49m\u001b[43m)\u001b[49m\n",
      "File \u001b[0;32m<string>:1\u001b[0m\n",
      "\u001b[0;31mNameError\u001b[0m: name 'v' is not defined"
     ]
    }
   ],
   "source": [
    "# Only execution time error \n",
    "exec(compile(ast.parse(\"print(v)\"), '<string>', mode=\"exec\"))"
   ]
  },
  {
   "cell_type": "markdown",
   "metadata": {},
   "source": [
    "# Compilation"
   ]
  },
  {
   "cell_type": "code",
   "execution_count": 11,
   "metadata": {},
   "outputs": [
    {
     "name": "stdout",
     "output_type": "stream",
     "text": [
      "AST\n",
      "Module(\n",
      "    body=[\n",
      "        Assign(\n",
      "            targets=[\n",
      "                Name(id='a', ctx=Store())],\n",
      "            value=Constant(value=1)),\n",
      "        Assign(\n",
      "            targets=[\n",
      "                Name(id='b', ctx=Store())],\n",
      "            value=Constant(value=2))],\n",
      "    type_ignores=[])\n",
      "\n",
      "Bytecode\n",
      "[151, 0, 100, 0, 90, 0, 100, 1, 90, 1, 100, 2, 83, 0]\n"
     ]
    }
   ],
   "source": [
    "code0 = \"a=1\\nb=2\"\n",
    "tree0 = ast.parse(code0, mode=\"exec\")\n",
    "print(\"AST\")\n",
    "print(ast.dump(tree0, indent=4))\n",
    "print()\n",
    "\n",
    "b0 = compile(tree0, \"<string>\", mode=\"exec\")\n",
    "print(\"Bytecode\")\n",
    "print([b for b in b0.co_code])"
   ]
  },
  {
   "cell_type": "code",
   "execution_count": 12,
   "metadata": {},
   "outputs": [
    {
     "data": {
      "text/plain": [
       "code"
      ]
     },
     "execution_count": 12,
     "metadata": {},
     "output_type": "execute_result"
    }
   ],
   "source": [
    "# Get bytecode object\n",
    "# The compile() function in Python converts source code or an Abstract Syntax Tree (AST) \n",
    "# into a code object that you can execute with exec() or evaluate with eval().\n",
    "compiled = compile(tree0, \"<string>\", mode=\"exec\")\n",
    "type(compiled)"
   ]
  },
  {
   "cell_type": "code",
   "execution_count": 13,
   "metadata": {},
   "outputs": [
    {
     "name": "stdout",
     "output_type": "stream",
     "text": [
      "  0           0 RESUME                   0\n",
      "\n",
      "  1           2 LOAD_CONST               0 (1)\n",
      "              4 STORE_NAME               0 (a)\n",
      "\n",
      "  2           6 LOAD_CONST               1 (2)\n",
      "              8 STORE_NAME               1 (b)\n",
      "             10 LOAD_CONST               2 (None)\n",
      "             12 RETURN_VALUE\n"
     ]
    }
   ],
   "source": [
    "# Show bytecode\n",
    "dis.dis(compiled)"
   ]
  },
  {
   "cell_type": "code",
   "execution_count": 14,
   "metadata": {},
   "outputs": [],
   "source": [
    "def are_equal(l1, l2):\n",
    "    for ll1, ll2 in zip(l1.co_code, l2.co_code):\n",
    "        if ll1 != ll2:\n",
    "            print(False)\n",
    "            return\n",
    "\n",
    "    print(True)  "
   ]
  },
  {
   "cell_type": "markdown",
   "metadata": {},
   "source": [
    "### Example 1: Variable names, values and const folding don't matter"
   ]
  },
  {
   "cell_type": "code",
   "execution_count": 15,
   "metadata": {},
   "outputs": [],
   "source": [
    "code1 = \"a=1\"\n",
    "b1 = compile(ast.parse(code1, mode=\"exec\"), \"<string>\", mode=\"exec\")"
   ]
  },
  {
   "cell_type": "code",
   "execution_count": 16,
   "metadata": {},
   "outputs": [],
   "source": [
    "code2 = \"b=7\"\n",
    "b2 = compile(ast.parse(code2, mode=\"exec\"), \"<string>\", mode=\"exec\")"
   ]
  },
  {
   "cell_type": "code",
   "execution_count": 17,
   "metadata": {},
   "outputs": [],
   "source": [
    "code3 = \"c=7+9\"\n",
    "b3 = compile(ast.parse(code3, mode=\"exec\"), \"<string>\", mode=\"exec\")"
   ]
  },
  {
   "cell_type": "code",
   "execution_count": 18,
   "metadata": {},
   "outputs": [],
   "source": [
    "code4 = \"c=a+9\"\n",
    "b4 = compile(ast.parse(code4, mode=\"exec\"), \"<string>\", mode=\"exec\")"
   ]
  },
  {
   "cell_type": "code",
   "execution_count": 19,
   "metadata": {},
   "outputs": [
    {
     "name": "stdout",
     "output_type": "stream",
     "text": [
      "True\n",
      "True\n",
      "False\n"
     ]
    }
   ],
   "source": [
    "are_equal(b1, b2)\n",
    "are_equal(b2, b3)\n",
    "are_equal(b2, b4)"
   ]
  },
  {
   "cell_type": "markdown",
   "metadata": {},
   "source": [
    "### Example 2: Switching places of variables do matter"
   ]
  },
  {
   "cell_type": "code",
   "execution_count": 7,
   "metadata": {},
   "outputs": [],
   "source": [
    "code5 = \"\"\"\n",
    "a = 100\n",
    "b = 238\n",
    "print(a + b)\n",
    "\"\"\"\n",
    "b5 = compile(ast.parse(code5, mode=\"exec\"), \"<string>\", mode=\"exec\")"
   ]
  },
  {
   "cell_type": "code",
   "execution_count": 8,
   "metadata": {},
   "outputs": [],
   "source": [
    "code6 = \"\"\"\n",
    "a = 100\n",
    "b = 238\n",
    "print(b + a)\n",
    "\"\"\"\n",
    "b6 = compile(ast.parse(code6, mode=\"exec\"), \"<string>\", mode=\"exec\")"
   ]
  },
  {
   "cell_type": "code",
   "execution_count": 22,
   "metadata": {},
   "outputs": [],
   "source": [
    "code7 = \"\"\"\n",
    "a = 100\n",
    "b = 238\n",
    "print(a + b + 100)\n",
    "\"\"\"\n",
    "b7 = compile(ast.parse(code7, mode=\"exec\"), \"<string>\", mode=\"exec\")"
   ]
  },
  {
   "cell_type": "code",
   "execution_count": 23,
   "metadata": {},
   "outputs": [],
   "source": [
    "code8 = \"\"\"\n",
    "a = 100\n",
    "b = 238\n",
    "print(a + b + 100 + 50)\n",
    "\"\"\"\n",
    "b8 = compile(ast.parse(code8, mode=\"exec\"), \"<string>\", mode=\"exec\")"
   ]
  },
  {
   "cell_type": "code",
   "execution_count": 24,
   "metadata": {},
   "outputs": [
    {
     "name": "stdout",
     "output_type": "stream",
     "text": [
      "False\n",
      "False\n",
      "False\n"
     ]
    }
   ],
   "source": [
    "are_equal(b5, b6)\n",
    "are_equal(b5, b7)\n",
    "are_equal(b7, b8)"
   ]
  },
  {
   "cell_type": "code",
   "execution_count": 25,
   "metadata": {},
   "outputs": [
    {
     "name": "stdout",
     "output_type": "stream",
     "text": [
      "Module(\n",
      "  body=[\n",
      "    Assign(\n",
      "      targets=[\n",
      "        Name(id='a', ctx=Store())],\n",
      "      value=Constant(value=100)),\n",
      "    Assign(\n",
      "      targets=[\n",
      "        Name(id='b', ctx=Store())],\n",
      "      value=Constant(value=238)),\n",
      "    Expr(\n",
      "      value=Call(\n",
      "        func=Name(id='print', ctx=Load()),\n",
      "        args=[\n",
      "          BinOp(\n",
      "            left=BinOp(\n",
      "              left=Name(id='a', ctx=Load()),\n",
      "              op=Add(),\n",
      "              right=Name(id='b', ctx=Load())),\n",
      "            op=Add(),\n",
      "            right=Constant(value=100))],\n",
      "        keywords=[]))],\n",
      "  type_ignores=[])\n"
     ]
    }
   ],
   "source": [
    "print(ast.dump(ast.parse(code7), indent=2))"
   ]
  },
  {
   "cell_type": "code",
   "execution_count": 26,
   "metadata": {},
   "outputs": [
    {
     "name": "stdout",
     "output_type": "stream",
     "text": [
      "Module(\n",
      "  body=[\n",
      "    Assign(\n",
      "      targets=[\n",
      "        Name(id='a', ctx=Store())],\n",
      "      value=Constant(value=100)),\n",
      "    Assign(\n",
      "      targets=[\n",
      "        Name(id='b', ctx=Store())],\n",
      "      value=Constant(value=238)),\n",
      "    Expr(\n",
      "      value=Call(\n",
      "        func=Name(id='print', ctx=Load()),\n",
      "        args=[\n",
      "          BinOp(\n",
      "            left=BinOp(\n",
      "              left=BinOp(\n",
      "                left=Name(id='a', ctx=Load()),\n",
      "                op=Add(),\n",
      "                right=Name(id='b', ctx=Load())),\n",
      "              op=Add(),\n",
      "              right=Constant(value=100)),\n",
      "            op=Add(),\n",
      "            right=Constant(value=50))],\n",
      "        keywords=[]))],\n",
      "  type_ignores=[])\n"
     ]
    }
   ],
   "source": [
    "print(ast.dump(ast.parse(code8), indent=2))"
   ]
  },
  {
   "cell_type": "code",
   "execution_count": 27,
   "metadata": {},
   "outputs": [
    {
     "name": "stdout",
     "output_type": "stream",
     "text": [
      "True\n"
     ]
    }
   ],
   "source": [
    "code9 = \"\"\"\n",
    "a = 80\n",
    "a = 100\n",
    "a = 238\n",
    "print(a + a)\n",
    "\"\"\"\n",
    "\n",
    "b9 = compile(ast.parse(code9, mode=\"exec\"), \"<string>\", mode=\"exec\")\n",
    "\n",
    "code10 = \"\"\"\n",
    "b = 80\n",
    "b = 100+90\n",
    "b = 238\n",
    "print(b + b)\n",
    "\"\"\"\n",
    "\n",
    "b10 = compile(ast.parse(code10, mode=\"exec\"), \"<string>\", mode=\"exec\")\n",
    "\n",
    "are_equal(b9, b10)"
   ]
  },
  {
   "cell_type": "code",
   "execution_count": 28,
   "metadata": {},
   "outputs": [
    {
     "name": "stdout",
     "output_type": "stream",
     "text": [
      "True\n"
     ]
    }
   ],
   "source": [
    "code9 = \"\"\"\n",
    "a = 80\n",
    "b = a + 5\n",
    "print(b)\n",
    "\"\"\"\n",
    "\n",
    "b9 = compile(ast.parse(code9, mode=\"exec\"), \"<string>\", mode=\"exec\")\n",
    "\n",
    "code10 = \"\"\"\n",
    "a = 80\n",
    "b = a + 10 \n",
    "print(b)\n",
    "\"\"\"\n",
    "\n",
    "b10 = compile(ast.parse(code10, mode=\"exec\"), \"<string>\", mode=\"exec\")\n",
    "\n",
    "are_equal(b9, b10)"
   ]
  },
  {
   "cell_type": "code",
   "execution_count": null,
   "metadata": {},
   "outputs": [],
   "source": []
  },
  {
   "cell_type": "code",
   "execution_count": null,
   "metadata": {},
   "outputs": [],
   "source": []
  },
  {
   "cell_type": "code",
   "execution_count": null,
   "metadata": {},
   "outputs": [],
   "source": []
  },
  {
   "cell_type": "code",
   "execution_count": null,
   "metadata": {},
   "outputs": [],
   "source": []
  },
  {
   "cell_type": "code",
   "execution_count": 37,
   "metadata": {},
   "outputs": [],
   "source": [
    "code_1 = \"x = 5\"\n",
    "code_2 = \"z = 2 + 3\""
   ]
  },
  {
   "cell_type": "code",
   "execution_count": 41,
   "metadata": {},
   "outputs": [
    {
     "name": "stdout",
     "output_type": "stream",
     "text": [
      "Module(\n",
      "  body=[\n",
      "    Assign(\n",
      "      targets=[\n",
      "        Name(id='x', ctx=Store())],\n",
      "      value=Constant(value=5))],\n",
      "  type_ignores=[])\n"
     ]
    }
   ],
   "source": [
    "tree = ast.parse(code_1, mode=\"exec\")\n",
    "print(ast.dump(tree, indent=2))"
   ]
  },
  {
   "cell_type": "code",
   "execution_count": 42,
   "metadata": {},
   "outputs": [
    {
     "name": "stdout",
     "output_type": "stream",
     "text": [
      "Module(\n",
      "  body=[\n",
      "    Assign(\n",
      "      targets=[\n",
      "        Name(id='z', ctx=Store())],\n",
      "      value=BinOp(\n",
      "        left=Constant(value=2),\n",
      "        op=Add(),\n",
      "        right=Constant(value=3)))],\n",
      "  type_ignores=[])\n"
     ]
    }
   ],
   "source": [
    "tree = ast.parse(code_2, mode=\"exec\") \n",
    "print(ast.dump(tree, indent=2))"
   ]
  },
  {
   "cell_type": "code",
   "execution_count": 43,
   "metadata": {},
   "outputs": [
    {
     "name": "stdout",
     "output_type": "stream",
     "text": [
      "True\n"
     ]
    }
   ],
   "source": [
    "are_equal(compile(ast.parse(code_1, mode=\"exec\"), \"<string>\", mode=\"exec\"), compile(ast.parse(code_2, mode=\"exec\"), \"<string>\", mode=\"exec\"))"
   ]
  },
  {
   "cell_type": "code",
   "execution_count": 44,
   "metadata": {},
   "outputs": [],
   "source": [
    "code_1 = \"a=2\\nb=3\"\n",
    "code_2 = \"c=4\\nd=5\""
   ]
  },
  {
   "cell_type": "code",
   "execution_count": 45,
   "metadata": {},
   "outputs": [
    {
     "name": "stdout",
     "output_type": "stream",
     "text": [
      "True\n"
     ]
    }
   ],
   "source": [
    "are_equal(compile(ast.parse(code_1, mode=\"exec\"), \"<string>\", mode=\"exec\"), compile(ast.parse(code_2, mode=\"exec\"), \"<string>\", mode=\"exec\"))"
   ]
  },
  {
   "cell_type": "code",
   "execution_count": 53,
   "metadata": {},
   "outputs": [],
   "source": [
    "code_1 = \"a=2\\nb=3\\nif a==b: \\n    print('yes')\\nelse:\\n    print('no')\"\n",
    "code_2 = \"c=4\\nd=5\\nif c==d: \\n    print('yes')\\nelse:\\n    print('no')\"\n",
    "code_3 = \"c=4\\nd=5\\nif c!=d: \\n    print('no')\\nelse:\\n    print('yes')\""
   ]
  },
  {
   "cell_type": "code",
   "execution_count": 54,
   "metadata": {},
   "outputs": [
    {
     "name": "stdout",
     "output_type": "stream",
     "text": [
      "False\n"
     ]
    }
   ],
   "source": [
    "are_equal(compile(ast.parse(code_2, mode=\"exec\"), \"<string>\", mode=\"exec\"), compile(ast.parse(code_3, mode=\"exec\"), \"<string>\", mode=\"exec\"))"
   ]
  },
  {
   "cell_type": "code",
   "execution_count": 3,
   "metadata": {},
   "outputs": [],
   "source": [
    "class CanonicalizeCommutativeOps(ast.NodeTransformer):\n",
    "    def visit_BinOp(self, node):\n",
    "        self.generic_visit(node)\n",
    "\n",
    "        if isinstance(node.op, (ast.Add, ast.Mult)):\n",
    "            operands = self.flatten_commutative_chain(node, type(node.op))\n",
    "            sorted_operands = sorted(operands, key=self.sort_key)\n",
    "\n",
    "            return self.build_commutative_chain(sorted_operands, node.op)\n",
    "\n",
    "        return node\n",
    "\n",
    "    def flatten_commutative_chain(self, node, op_type):\n",
    "        if isinstance(node, ast.BinOp) and isinstance(node.op, op_type):\n",
    "\n",
    "            return self.flatten_commutative_chain(node.left, op_type) + \\\n",
    "                   self.flatten_commutative_chain(node.right, op_type)\n",
    "        else:\n",
    "            return [node]\n",
    "\n",
    "    def build_commutative_chain(self, operands, op):\n",
    "        if not operands:\n",
    "            return ast.Constant(value=0 if isinstance(op, ast.Add) else 1)\n",
    "\n",
    "        expr = operands[0]\n",
    "\n",
    "        for operand in operands[1:]:\n",
    "            expr = ast.BinOp(left=expr, op=op, right=operand)\n",
    "\n",
    "        return expr\n",
    "\n",
    "    def sort_key(self, node):\n",
    "        if isinstance(node, ast.Constant):\n",
    "            return (0, repr(node.value))\n",
    "        elif isinstance(node, ast.Name):\n",
    "            return (1, node.id)\n",
    "        else:\n",
    "            return (2, ast.dump(node))\n",
    "\n",
    "\n",
    "def normalize_code(code):\n",
    "    tree = ast.parse(code)\n",
    "    normalized = CanonicalizeCommutativeOps().visit(tree)\n",
    "    ast.fix_missing_locations(normalized)\n",
    "\n",
    "    return ast.unparse(normalized)"
   ]
  },
  {
   "cell_type": "code",
   "execution_count": 10,
   "metadata": {},
   "outputs": [
    {
     "name": "stdout",
     "output_type": "stream",
     "text": [
      "a = 8 + b - (3 + a)\n",
      "b = 1 + a + b\n"
     ]
    }
   ],
   "source": [
    "\n",
    "code = \"a = (b + 8) - (a + 3)\\nb = b + a + 1\"\n",
    "print(normalize_code(code))"
   ]
  },
  {
   "cell_type": "code",
   "execution_count": 9,
   "metadata": {},
   "outputs": [],
   "source": [
    "code_5_norm = normalize_code(code5)\n",
    "code_6_norm = normalize_code(code6)"
   ]
  },
  {
   "cell_type": "code",
   "execution_count": 10,
   "metadata": {},
   "outputs": [
    {
     "data": {
      "text/plain": [
       "'a = 100\\nb = 238\\nprint(a + b)'"
      ]
     },
     "execution_count": 10,
     "metadata": {},
     "output_type": "execute_result"
    }
   ],
   "source": [
    "code_5_norm"
   ]
  },
  {
   "cell_type": "code",
   "execution_count": 11,
   "metadata": {},
   "outputs": [
    {
     "data": {
      "text/plain": [
       "'a = 100\\nb = 238\\nprint(a + b)'"
      ]
     },
     "execution_count": 11,
     "metadata": {},
     "output_type": "execute_result"
    }
   ],
   "source": [
    "code_6_norm"
   ]
  },
  {
   "cell_type": "code",
   "execution_count": null,
   "metadata": {},
   "outputs": [],
   "source": []
  },
  {
   "cell_type": "code",
   "execution_count": null,
   "metadata": {},
   "outputs": [],
   "source": []
  },
  {
   "cell_type": "code",
   "execution_count": 1,
   "metadata": {},
   "outputs": [],
   "source": [
    "import ast\n",
    "import builtins\n",
    "\n",
    "def find_undeclared_vars(source):\n",
    "    tree = ast.parse(source)\n",
    "    assigned = set()\n",
    "    used = set()\n",
    "\n",
    "    for node in ast.walk(tree):\n",
    "        # any assignment target\n",
    "        if isinstance(node, ast.Name) and isinstance(node.ctx, ast.Store):\n",
    "            assigned.add(node.id)\n",
    "        # any usage\n",
    "        if isinstance(node, ast.Name) and isinstance(node.ctx, ast.Load):\n",
    "            used.add(node.id)\n",
    "\n",
    "    # drop builtins (print, len, etc.)\n",
    "    builtins_names = set(dir(builtins))\n",
    "    undeclared = used - assigned - builtins_names\n",
    "    return undeclared"
   ]
  },
  {
   "cell_type": "code",
   "execution_count": 2,
   "metadata": {},
   "outputs": [
    {
     "name": "stdout",
     "output_type": "stream",
     "text": [
      "{'a'}\n"
     ]
    }
   ],
   "source": [
    "code1 = \"\"\"\n",
    "c = 7\n",
    "b = 7\n",
    "d = (a / 7) + (a * 7)\n",
    "\"\"\"\n",
    "print(find_undeclared_vars(code1))"
   ]
  },
  {
   "cell_type": "code",
   "execution_count": 4,
   "metadata": {},
   "outputs": [
    {
     "name": "stdout",
     "output_type": "stream",
     "text": [
      "{'b', 'c'}\n"
     ]
    }
   ],
   "source": [
    "code2 = \"\"\"\n",
    "a = 8\n",
    "if a > 7:\n",
    "    print(a)\n",
    "elif b <= b:\n",
    "    print(b)\n",
    "else:\n",
    "    print(c)\n",
    "\"\"\"\n",
    "print(find_undeclared_vars(code2))  "
   ]
  },
  {
   "cell_type": "code",
   "execution_count": null,
   "metadata": {},
   "outputs": [],
   "source": []
  }
 ],
 "metadata": {
  "kernelspec": {
   "display_name": "molgen",
   "language": "python",
   "name": "python3"
  },
  "language_info": {
   "codemirror_mode": {
    "name": "ipython",
    "version": 3
   },
   "file_extension": ".py",
   "mimetype": "text/x-python",
   "name": "python",
   "nbconvert_exporter": "python",
   "pygments_lexer": "ipython3",
   "version": "3.11.7"
  }
 },
 "nbformat": 4,
 "nbformat_minor": 2
}
