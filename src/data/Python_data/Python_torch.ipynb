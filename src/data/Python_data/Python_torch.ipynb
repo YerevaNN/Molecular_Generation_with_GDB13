{
 "cells": [
  {
   "cell_type": "code",
   "execution_count": 1,
   "metadata": {},
   "outputs": [],
   "source": [
    "import torch, inspect, hashlib\n",
    "import re"
   ]
  },
  {
   "cell_type": "code",
   "execution_count": 2,
   "metadata": {},
   "outputs": [],
   "source": [
    "def ts_signature(module, example_inputs=()):\n",
    "    \"\"\"\n",
    "    Return a SHA-256 hash that is identical for TorchScript-canonical-equivalent graphs.\n",
    "    \"\"\"\n",
    "    # 1. Script & freeze (avoids data‑dependent control‑flow) \n",
    "    ts = torch.jit.script(module)\n",
    "    ts = torch.jit.freeze(ts, example_inputs)\n",
    "\n",
    "    # 2. Canonicalise graph in place\n",
    "    g = ts.inlined_graph            # single, inlined graph\n",
    "    torch._C._jit_pass_canonicalize(g)        # 🔒 deterministic order\n",
    "    torch._C._jit_pass_constant_propagation(g)\n",
    "    torch._C._jit_pass_dce(g)\n",
    "    return g\n",
    "\n",
    "    # 3. Stringify without unique names, then hash\n",
    "    graph_str = g.toString(False, False, False)          # drop unique mangles\n",
    "    return hashlib.sha256(graph_str.encode()).hexdigest()"
   ]
  },
  {
   "cell_type": "code",
   "execution_count": 3,
   "metadata": {},
   "outputs": [],
   "source": [
    "def normalize_torchscript_graph(graph_str: str) -> str:\n",
    "    # Normalize mangled class names: ___torch_mangle_123.Class → ___torch_mangle_XXX.Cls\n",
    "    graph_str = re.sub(r'___torch_mangle_\\d+\\.\\w+', '___torch_mangle_XXX.Cls', graph_str)\n",
    "    \n",
    "    # Normalize ipykernel file paths: /tmp/ipykernel_*/123456789.py → /tmp/ipykernel_X/file.py\n",
    "    graph_str = re.sub(r'/tmp/ipykernel_\\d+/[\\d]+\\.py', '/tmp/ipykernel_X/file.py', graph_str)\n",
    "    \n",
    "    # Normalize line numbers in comments: :12:34 → :X:Y\n",
    "    graph_str = re.sub(r':\\d+:\\d+', ':X:Y', graph_str)\n",
    "    \n",
    "    return graph_str\n"
   ]
  },
  {
   "cell_type": "code",
   "execution_count": 4,
   "metadata": {},
   "outputs": [],
   "source": [
    "# step - the same\n",
    "class M(torch.nn.Module):\n",
    "    def forward(self, x):\n",
    "        y = 0\n",
    "        for i in range(1, 10):     \n",
    "            y = y + x[i]\n",
    " \n",
    "        return y\n",
    "\n",
    "class N(torch.nn.Module):\n",
    "    def forward(self, x):\n",
    "        y = 0\n",
    "        for i in range(1, 10, 1):   \n",
    "            y = y + x[i]\n",
    " \n",
    "        return y"
   ]
  },
  {
   "cell_type": "code",
   "execution_count": 5,
   "metadata": {},
   "outputs": [],
   "source": [
    "# change variable name - diff\n",
    "class M(torch.nn.Module):\n",
    "    def forward(self, x):\n",
    "        z = 0\n",
    "        for i in range(1, 10):     \n",
    "            z = z + x[i]\n",
    " \n",
    "        return z\n",
    "\n",
    "class N(torch.nn.Module):\n",
    "    def forward(self, x):\n",
    "        y = 0\n",
    "        for i in range(1, 10, 1):   \n",
    "            y = y + x[i]\n",
    " \n",
    "        return y"
   ]
  },
  {
   "cell_type": "code",
   "execution_count": 6,
   "metadata": {},
   "outputs": [],
   "source": [
    "# val value - diff\n",
    "class M(torch.nn.Module):\n",
    "    def forward(self, x):\n",
    "        y = 10\n",
    "        for i in range(1, 10):     \n",
    "            y = y + x[i]\n",
    " \n",
    "        return y\n",
    "\n",
    "class N(torch.nn.Module):\n",
    "    def forward(self, x):\n",
    "        y = 1\n",
    "        for i in range(1, 10, 1):   \n",
    "            y = y + x[i]\n",
    " \n",
    "        return y"
   ]
  },
  {
   "cell_type": "code",
   "execution_count": 7,
   "metadata": {},
   "outputs": [],
   "source": [
    "# swap vars - diff\n",
    "class M(torch.nn.Module):\n",
    "    def forward(self, x):\n",
    "        y = 0\n",
    "        for i in range(1, 10):     \n",
    "            y = y + x[i]\n",
    " \n",
    "        return y\n",
    "\n",
    "class N(torch.nn.Module):\n",
    "    def forward(self, x):\n",
    "        y = 0\n",
    "        for i in range(1, 10, 1):   \n",
    "            y = x[i] + y\n",
    " \n",
    "        return y"
   ]
  },
  {
   "cell_type": "code",
   "execution_count": 8,
   "metadata": {},
   "outputs": [],
   "source": [
    "g1 = ts_signature(M().eval()).str()\n",
    "g2 = ts_signature(N().eval()).str()"
   ]
  },
  {
   "cell_type": "code",
   "execution_count": 9,
   "metadata": {},
   "outputs": [
    {
     "data": {
      "text/plain": [
       "False"
      ]
     },
     "execution_count": 9,
     "metadata": {},
     "output_type": "execute_result"
    }
   ],
   "source": [
    "g1_norm = normalize_torchscript_graph(g1)\n",
    "g2_norm = normalize_torchscript_graph(g2)\n",
    "\n",
    "g1_norm == g2_norm"
   ]
  },
  {
   "cell_type": "code",
   "execution_count": 10,
   "metadata": {},
   "outputs": [
    {
     "data": {
      "text/plain": [
       "'graph(%self : __torch__.___torch_mangle_0.M,\\n      %x.1 : Tensor):\\n  %2 : int = prim::Constant[value=1]() # /tmp/ipykernel_2944385/401325865.py:5:23\\n  %y.1 : int = prim::Constant[value=0]() # /tmp/ipykernel_2944385/401325865.py:4:12\\n  %4 : Tensor = aten::select(%x.1, %y.1, %2) # /tmp/ipykernel_2944385/401325865.py:6:20\\n  %5 : int = aten::IntImplicit(%4) # /tmp/ipykernel_2944385/401325865.py:6:12\\n  %6 : int = prim::Constant[value=2]()\\n  %7 : Tensor = aten::select(%x.1, %y.1, %6) # /tmp/ipykernel_2944385/401325865.py:6:20\\n  %y.14 : Tensor = aten::add(%7, %5, %2) # <string>:5:9\\n  %9 : int = aten::IntImplicit(%y.14) # /tmp/ipykernel_2944385/401325865.py:6:12\\n  %10 : int = prim::Constant[value=3]()\\n  %11 : Tensor = aten::select(%x.1, %y.1, %10) # /tmp/ipykernel_2944385/401325865.py:6:20\\n  %y.16 : Tensor = aten::add(%11, %9, %2) # <string>:5:9\\n  %13 : int = aten::IntImplicit(%y.16) # /tmp/ipykernel_2944385/401325865.py:6:12\\n  %14 : int = prim::Constant[value=4]()\\n  %15 : Tensor = aten::select(%x.1, %y.1, %14) # /tmp/ipykernel_2944385/401325865.py:6:20\\n  %y.18 : Tensor = aten::add(%15, %13, %2) # <string>:5:9\\n  %17 : int = aten::IntImplicit(%y.18) # /tmp/ipykernel_2944385/401325865.py:6:12\\n  %18 : int = prim::Constant[value=5]()\\n  %19 : Tensor = aten::select(%x.1, %y.1, %18) # /tmp/ipykernel_2944385/401325865.py:6:20\\n  %y.20 : Tensor = aten::add(%19, %17, %2) # <string>:5:9\\n  %21 : int = aten::IntImplicit(%y.20) # /tmp/ipykernel_2944385/401325865.py:6:12\\n  %22 : int = prim::Constant[value=6]()\\n  %23 : Tensor = aten::select(%x.1, %y.1, %22) # /tmp/ipykernel_2944385/401325865.py:6:20\\n  %y.22 : Tensor = aten::add(%23, %21, %2) # <string>:5:9\\n  %25 : int = aten::IntImplicit(%y.22) # /tmp/ipykernel_2944385/401325865.py:6:12\\n  %26 : int = prim::Constant[value=7]()\\n  %27 : Tensor = aten::select(%x.1, %y.1, %26) # /tmp/ipykernel_2944385/401325865.py:6:20\\n  %y.24 : Tensor = aten::add(%27, %25, %2) # <string>:5:9\\n  %29 : int = aten::IntImplicit(%y.24) # /tmp/ipykernel_2944385/401325865.py:6:12\\n  %30 : int = prim::Constant[value=8]()\\n  %31 : Tensor = aten::select(%x.1, %y.1, %30) # /tmp/ipykernel_2944385/401325865.py:6:20\\n  %y.26 : Tensor = aten::add(%31, %29, %2) # <string>:5:9\\n  %33 : int = aten::IntImplicit(%y.26) # /tmp/ipykernel_2944385/401325865.py:6:12\\n  %34 : int = prim::Constant[value=9]()\\n  %35 : Tensor = aten::select(%x.1, %y.1, %34) # /tmp/ipykernel_2944385/401325865.py:6:20\\n  %y.28 : Tensor = aten::add(%35, %33, %2) # <string>:5:9\\n  %37 : int = aten::IntImplicit(%y.28) # /tmp/ipykernel_2944385/401325865.py:6:12\\n  return (%37)\\n'"
      ]
     },
     "execution_count": 10,
     "metadata": {},
     "output_type": "execute_result"
    }
   ],
   "source": [
    "g1"
   ]
  },
  {
   "cell_type": "code",
   "execution_count": 11,
   "metadata": {},
   "outputs": [
    {
     "data": {
      "text/plain": [
       "'graph(%self : __torch__.___torch_mangle_1.N,\\n      %x.1 : Tensor):\\n  %2 : int = prim::Constant[value=1]() # /tmp/ipykernel_2944385/401325865.py:13:23\\n  %y.1 : int = prim::Constant[value=0]() # /tmp/ipykernel_2944385/401325865.py:12:12\\n  %4 : Tensor = aten::select(%x.1, %y.1, %2) # /tmp/ipykernel_2944385/401325865.py:14:16\\n  %5 : int = aten::IntImplicit(%4) # /tmp/ipykernel_2944385/401325865.py:14:12\\n  %6 : int = prim::Constant[value=2]()\\n  %7 : Tensor = aten::select(%x.1, %y.1, %6) # /tmp/ipykernel_2944385/401325865.py:14:16\\n  %y.14 : Tensor = aten::add(%7, %5, %2) # /tmp/ipykernel_2944385/401325865.py:14:16\\n  %9 : int = aten::IntImplicit(%y.14) # /tmp/ipykernel_2944385/401325865.py:14:12\\n  %10 : int = prim::Constant[value=3]()\\n  %11 : Tensor = aten::select(%x.1, %y.1, %10) # /tmp/ipykernel_2944385/401325865.py:14:16\\n  %y.16 : Tensor = aten::add(%11, %9, %2) # /tmp/ipykernel_2944385/401325865.py:14:16\\n  %13 : int = aten::IntImplicit(%y.16) # /tmp/ipykernel_2944385/401325865.py:14:12\\n  %14 : int = prim::Constant[value=4]()\\n  %15 : Tensor = aten::select(%x.1, %y.1, %14) # /tmp/ipykernel_2944385/401325865.py:14:16\\n  %y.18 : Tensor = aten::add(%15, %13, %2) # /tmp/ipykernel_2944385/401325865.py:14:16\\n  %17 : int = aten::IntImplicit(%y.18) # /tmp/ipykernel_2944385/401325865.py:14:12\\n  %18 : int = prim::Constant[value=5]()\\n  %19 : Tensor = aten::select(%x.1, %y.1, %18) # /tmp/ipykernel_2944385/401325865.py:14:16\\n  %y.20 : Tensor = aten::add(%19, %17, %2) # /tmp/ipykernel_2944385/401325865.py:14:16\\n  %21 : int = aten::IntImplicit(%y.20) # /tmp/ipykernel_2944385/401325865.py:14:12\\n  %22 : int = prim::Constant[value=6]()\\n  %23 : Tensor = aten::select(%x.1, %y.1, %22) # /tmp/ipykernel_2944385/401325865.py:14:16\\n  %y.22 : Tensor = aten::add(%23, %21, %2) # /tmp/ipykernel_2944385/401325865.py:14:16\\n  %25 : int = aten::IntImplicit(%y.22) # /tmp/ipykernel_2944385/401325865.py:14:12\\n  %26 : int = prim::Constant[value=7]()\\n  %27 : Tensor = aten::select(%x.1, %y.1, %26) # /tmp/ipykernel_2944385/401325865.py:14:16\\n  %y.24 : Tensor = aten::add(%27, %25, %2) # /tmp/ipykernel_2944385/401325865.py:14:16\\n  %29 : int = aten::IntImplicit(%y.24) # /tmp/ipykernel_2944385/401325865.py:14:12\\n  %30 : int = prim::Constant[value=8]()\\n  %31 : Tensor = aten::select(%x.1, %y.1, %30) # /tmp/ipykernel_2944385/401325865.py:14:16\\n  %y.26 : Tensor = aten::add(%31, %29, %2) # /tmp/ipykernel_2944385/401325865.py:14:16\\n  %33 : int = aten::IntImplicit(%y.26) # /tmp/ipykernel_2944385/401325865.py:14:12\\n  %34 : int = prim::Constant[value=9]()\\n  %35 : Tensor = aten::select(%x.1, %y.1, %34) # /tmp/ipykernel_2944385/401325865.py:14:16\\n  %y.28 : Tensor = aten::add(%35, %33, %2) # /tmp/ipykernel_2944385/401325865.py:14:16\\n  %37 : int = aten::IntImplicit(%y.28) # /tmp/ipykernel_2944385/401325865.py:14:12\\n  return (%37)\\n'"
      ]
     },
     "execution_count": 11,
     "metadata": {},
     "output_type": "execute_result"
    }
   ],
   "source": [
    "g2"
   ]
  },
  {
   "cell_type": "code",
   "execution_count": 12,
   "metadata": {},
   "outputs": [
    {
     "data": {
      "text/plain": [
       "'graph(%self : __torch__.___torch_mangle_XXX.Cls,\\n      %x.1 : Tensor):\\n  %2 : int = prim::Constant[value=1]() # /tmp/ipykernel_X/file.py:X:Y\\n  %y.1 : int = prim::Constant[value=0]() # /tmp/ipykernel_X/file.py:X:Y\\n  %4 : Tensor = aten::select(%x.1, %y.1, %2) # /tmp/ipykernel_X/file.py:X:Y\\n  %5 : int = aten::IntImplicit(%4) # /tmp/ipykernel_X/file.py:X:Y\\n  %6 : int = prim::Constant[value=2]()\\n  %7 : Tensor = aten::select(%x.1, %y.1, %6) # /tmp/ipykernel_X/file.py:X:Y\\n  %y.14 : Tensor = aten::add(%7, %5, %2) # <string>:X:Y\\n  %9 : int = aten::IntImplicit(%y.14) # /tmp/ipykernel_X/file.py:X:Y\\n  %10 : int = prim::Constant[value=3]()\\n  %11 : Tensor = aten::select(%x.1, %y.1, %10) # /tmp/ipykernel_X/file.py:X:Y\\n  %y.16 : Tensor = aten::add(%11, %9, %2) # <string>:X:Y\\n  %13 : int = aten::IntImplicit(%y.16) # /tmp/ipykernel_X/file.py:X:Y\\n  %14 : int = prim::Constant[value=4]()\\n  %15 : Tensor = aten::select(%x.1, %y.1, %14) # /tmp/ipykernel_X/file.py:X:Y\\n  %y.18 : Tensor = aten::add(%15, %13, %2) # <string>:X:Y\\n  %17 : int = aten::IntImplicit(%y.18) # /tmp/ipykernel_X/file.py:X:Y\\n  %18 : int = prim::Constant[value=5]()\\n  %19 : Tensor = aten::select(%x.1, %y.1, %18) # /tmp/ipykernel_X/file.py:X:Y\\n  %y.20 : Tensor = aten::add(%19, %17, %2) # <string>:X:Y\\n  %21 : int = aten::IntImplicit(%y.20) # /tmp/ipykernel_X/file.py:X:Y\\n  %22 : int = prim::Constant[value=6]()\\n  %23 : Tensor = aten::select(%x.1, %y.1, %22) # /tmp/ipykernel_X/file.py:X:Y\\n  %y.22 : Tensor = aten::add(%23, %21, %2) # <string>:X:Y\\n  %25 : int = aten::IntImplicit(%y.22) # /tmp/ipykernel_X/file.py:X:Y\\n  %26 : int = prim::Constant[value=7]()\\n  %27 : Tensor = aten::select(%x.1, %y.1, %26) # /tmp/ipykernel_X/file.py:X:Y\\n  %y.24 : Tensor = aten::add(%27, %25, %2) # <string>:X:Y\\n  %29 : int = aten::IntImplicit(%y.24) # /tmp/ipykernel_X/file.py:X:Y\\n  %30 : int = prim::Constant[value=8]()\\n  %31 : Tensor = aten::select(%x.1, %y.1, %30) # /tmp/ipykernel_X/file.py:X:Y\\n  %y.26 : Tensor = aten::add(%31, %29, %2) # <string>:X:Y\\n  %33 : int = aten::IntImplicit(%y.26) # /tmp/ipykernel_X/file.py:X:Y\\n  %34 : int = prim::Constant[value=9]()\\n  %35 : Tensor = aten::select(%x.1, %y.1, %34) # /tmp/ipykernel_X/file.py:X:Y\\n  %y.28 : Tensor = aten::add(%35, %33, %2) # <string>:X:Y\\n  %37 : int = aten::IntImplicit(%y.28) # /tmp/ipykernel_X/file.py:X:Y\\n  return (%37)\\n'"
      ]
     },
     "execution_count": 12,
     "metadata": {},
     "output_type": "execute_result"
    }
   ],
   "source": [
    "g1_norm"
   ]
  },
  {
   "cell_type": "code",
   "execution_count": 13,
   "metadata": {},
   "outputs": [
    {
     "data": {
      "text/plain": [
       "'graph(%self : __torch__.___torch_mangle_XXX.Cls,\\n      %x.1 : Tensor):\\n  %2 : int = prim::Constant[value=1]() # /tmp/ipykernel_X/file.py:X:Y\\n  %y.1 : int = prim::Constant[value=0]() # /tmp/ipykernel_X/file.py:X:Y\\n  %4 : Tensor = aten::select(%x.1, %y.1, %2) # /tmp/ipykernel_X/file.py:X:Y\\n  %5 : int = aten::IntImplicit(%4) # /tmp/ipykernel_X/file.py:X:Y\\n  %6 : int = prim::Constant[value=2]()\\n  %7 : Tensor = aten::select(%x.1, %y.1, %6) # /tmp/ipykernel_X/file.py:X:Y\\n  %y.14 : Tensor = aten::add(%7, %5, %2) # /tmp/ipykernel_X/file.py:X:Y\\n  %9 : int = aten::IntImplicit(%y.14) # /tmp/ipykernel_X/file.py:X:Y\\n  %10 : int = prim::Constant[value=3]()\\n  %11 : Tensor = aten::select(%x.1, %y.1, %10) # /tmp/ipykernel_X/file.py:X:Y\\n  %y.16 : Tensor = aten::add(%11, %9, %2) # /tmp/ipykernel_X/file.py:X:Y\\n  %13 : int = aten::IntImplicit(%y.16) # /tmp/ipykernel_X/file.py:X:Y\\n  %14 : int = prim::Constant[value=4]()\\n  %15 : Tensor = aten::select(%x.1, %y.1, %14) # /tmp/ipykernel_X/file.py:X:Y\\n  %y.18 : Tensor = aten::add(%15, %13, %2) # /tmp/ipykernel_X/file.py:X:Y\\n  %17 : int = aten::IntImplicit(%y.18) # /tmp/ipykernel_X/file.py:X:Y\\n  %18 : int = prim::Constant[value=5]()\\n  %19 : Tensor = aten::select(%x.1, %y.1, %18) # /tmp/ipykernel_X/file.py:X:Y\\n  %y.20 : Tensor = aten::add(%19, %17, %2) # /tmp/ipykernel_X/file.py:X:Y\\n  %21 : int = aten::IntImplicit(%y.20) # /tmp/ipykernel_X/file.py:X:Y\\n  %22 : int = prim::Constant[value=6]()\\n  %23 : Tensor = aten::select(%x.1, %y.1, %22) # /tmp/ipykernel_X/file.py:X:Y\\n  %y.22 : Tensor = aten::add(%23, %21, %2) # /tmp/ipykernel_X/file.py:X:Y\\n  %25 : int = aten::IntImplicit(%y.22) # /tmp/ipykernel_X/file.py:X:Y\\n  %26 : int = prim::Constant[value=7]()\\n  %27 : Tensor = aten::select(%x.1, %y.1, %26) # /tmp/ipykernel_X/file.py:X:Y\\n  %y.24 : Tensor = aten::add(%27, %25, %2) # /tmp/ipykernel_X/file.py:X:Y\\n  %29 : int = aten::IntImplicit(%y.24) # /tmp/ipykernel_X/file.py:X:Y\\n  %30 : int = prim::Constant[value=8]()\\n  %31 : Tensor = aten::select(%x.1, %y.1, %30) # /tmp/ipykernel_X/file.py:X:Y\\n  %y.26 : Tensor = aten::add(%31, %29, %2) # /tmp/ipykernel_X/file.py:X:Y\\n  %33 : int = aten::IntImplicit(%y.26) # /tmp/ipykernel_X/file.py:X:Y\\n  %34 : int = prim::Constant[value=9]()\\n  %35 : Tensor = aten::select(%x.1, %y.1, %34) # /tmp/ipykernel_X/file.py:X:Y\\n  %y.28 : Tensor = aten::add(%35, %33, %2) # /tmp/ipykernel_X/file.py:X:Y\\n  %37 : int = aten::IntImplicit(%y.28) # /tmp/ipykernel_X/file.py:X:Y\\n  return (%37)\\n'"
      ]
     },
     "execution_count": 13,
     "metadata": {},
     "output_type": "execute_result"
    }
   ],
   "source": [
    "g2_norm"
   ]
  },
  {
   "cell_type": "code",
   "execution_count": 14,
   "metadata": {},
   "outputs": [
    {
     "data": {
      "text/plain": [
       "graph(%self : __torch__.M,\n",
       "      %x.1 : Tensor):\n",
       "  %7 : bool = prim::Constant[value=1]() # /tmp/ipykernel_2944385/401325865.py:5:8\n",
       "  %35 : int = prim::Constant[value=9]()\n",
       "  %y.1 : int = prim::Constant[value=0]() # /tmp/ipykernel_2944385/401325865.py:4:12\n",
       "  %3 : int = prim::Constant[value=1]() # /tmp/ipykernel_2944385/401325865.py:5:23\n",
       "  %y : int = prim::Loop(%35, %7, %y.1) # /tmp/ipykernel_2944385/401325865.py:5:8\n",
       "    block0(%8 : int, %y.11 : int):\n",
       "      %i.1 : int = aten::__derive_index(%8, %3, %3) # /tmp/ipykernel_2944385/401325865.py:5:8\n",
       "      %16 : Tensor = aten::select(%x.1, %y.1, %i.1) # /tmp/ipykernel_2944385/401325865.py:6:20\n",
       "      %y.5 : Tensor = aten::add(%16, %y.11, %3) # <string>:5:9\n",
       "      %20 : int = aten::IntImplicit(%y.5) # /tmp/ipykernel_2944385/401325865.py:6:12\n",
       "      -> (%7, %20)\n",
       "  return (%y)"
      ]
     },
     "execution_count": 14,
     "metadata": {},
     "output_type": "execute_result"
    }
   ],
   "source": [
    "scripted_fn = torch.jit.script(M())\n",
    "graph_1 = scripted_fn.graph\n",
    "graph_1"
   ]
  },
  {
   "cell_type": "code",
   "execution_count": 15,
   "metadata": {},
   "outputs": [
    {
     "data": {
      "text/plain": [
       "graph(%self : __torch__.N,\n",
       "      %x.1 : Tensor):\n",
       "  %6 : bool = prim::Constant[value=1]() # /tmp/ipykernel_2944385/401325865.py:13:8\n",
       "  %34 : int = prim::Constant[value=9]()\n",
       "  %y.1 : int = prim::Constant[value=0]() # /tmp/ipykernel_2944385/401325865.py:12:12\n",
       "  %3 : int = prim::Constant[value=1]() # /tmp/ipykernel_2944385/401325865.py:13:23\n",
       "  %y : int = prim::Loop(%34, %6, %y.1) # /tmp/ipykernel_2944385/401325865.py:13:8\n",
       "    block0(%7 : int, %y.11 : int):\n",
       "      %i.1 : int = aten::__derive_index(%7, %3, %3) # /tmp/ipykernel_2944385/401325865.py:13:8\n",
       "      %14 : Tensor = aten::select(%x.1, %y.1, %i.1) # /tmp/ipykernel_2944385/401325865.py:14:16\n",
       "      %y.5 : Tensor = aten::add(%14, %y.11, %3) # /tmp/ipykernel_2944385/401325865.py:14:16\n",
       "      %19 : int = aten::IntImplicit(%y.5) # /tmp/ipykernel_2944385/401325865.py:14:12\n",
       "      -> (%6, %19)\n",
       "  return (%y)"
      ]
     },
     "execution_count": 15,
     "metadata": {},
     "output_type": "execute_result"
    }
   ],
   "source": [
    "\n",
    "scripted_fn = torch.jit.script(N())\n",
    "graph_2 = scripted_fn.graph\n",
    "graph_2"
   ]
  },
  {
   "cell_type": "code",
   "execution_count": 16,
   "metadata": {},
   "outputs": [],
   "source": [
    "from collections import defaultdict\n",
    "\n",
    "def extract_graph_semantics(graph):\n",
    "    nodes = []\n",
    "    for node in graph.nodes():\n",
    "        # Record operation type and its inputs and outputs (not source location)\n",
    "        op = node.kind()\n",
    "        inputs = [i.debugName() for i in node.inputs()]\n",
    "        outputs = [o.debugName() for o in node.outputs()]\n",
    "        nodes.append((op, tuple(inputs), tuple(outputs)))\n",
    "    return nodes"
   ]
  },
  {
   "cell_type": "code",
   "execution_count": 17,
   "metadata": {},
   "outputs": [],
   "source": [
    "def extract_functional_ops(graph):\n",
    "    ops = []\n",
    "    for node in graph.nodes():\n",
    "        op_kind = node.kind()\n",
    "        inputs = [str(i) for i in node.inputs()]\n",
    "        outputs = [str(o) for o in node.outputs()]\n",
    "        ops.append(f\"{', '.join(outputs)} = {op_kind}({', '.join(inputs)})\")\n",
    "    return ops"
   ]
  },
  {
   "cell_type": "code",
   "execution_count": 18,
   "metadata": {},
   "outputs": [],
   "source": [
    "def compare_graphs(graph1, graph2):\n",
    "    return extract_graph_semantics(graph1) == extract_graph_semantics(graph2)"
   ]
  },
  {
   "cell_type": "code",
   "execution_count": 19,
   "metadata": {},
   "outputs": [
    {
     "data": {
      "text/plain": [
       "False"
      ]
     },
     "execution_count": 19,
     "metadata": {},
     "output_type": "execute_result"
    }
   ],
   "source": [
    "compare_graphs(graph_1, graph_2)"
   ]
  },
  {
   "cell_type": "code",
   "execution_count": 20,
   "metadata": {},
   "outputs": [],
   "source": [
    "def normalize_graph_structure(graph):\n",
    "    op_seq = []\n",
    "    name_map = {}\n",
    "    counter = 0\n",
    "\n",
    "    def get_id(name):\n",
    "        nonlocal counter\n",
    "        if name not in name_map:\n",
    "            name_map[name] = f\"%var{counter}\"\n",
    "            counter += 1\n",
    "        return name_map[name]\n",
    "\n",
    "    for node in graph.nodes():\n",
    "        op = node.kind()\n",
    "        inputs = tuple(get_id(i.debugName()) for i in node.inputs())\n",
    "        outputs = tuple(get_id(o.debugName()) for o in node.outputs())\n",
    "        op_seq.append((op, inputs, outputs))\n",
    "\n",
    "    return op_seq"
   ]
  },
  {
   "cell_type": "code",
   "execution_count": 21,
   "metadata": {},
   "outputs": [
    {
     "data": {
      "text/plain": [
       "True"
      ]
     },
     "execution_count": 21,
     "metadata": {},
     "output_type": "execute_result"
    }
   ],
   "source": [
    "normalize_graph_structure(graph_1) == normalize_graph_structure(graph_2)"
   ]
  },
  {
   "cell_type": "code",
   "execution_count": 22,
   "metadata": {},
   "outputs": [
    {
     "data": {
      "text/plain": [
       "[('prim::Constant', (), ('%var0',)),\n",
       " ('prim::Constant', (), ('%var1',)),\n",
       " ('prim::Constant', (), ('%var2',)),\n",
       " ('prim::Constant', (), ('%var3',)),\n",
       " ('prim::Loop', ('%var1', '%var0', '%var2'), ('%var4',))]"
      ]
     },
     "execution_count": 22,
     "metadata": {},
     "output_type": "execute_result"
    }
   ],
   "source": [
    "normalize_graph_structure(graph_1) "
   ]
  },
  {
   "cell_type": "code",
   "execution_count": 23,
   "metadata": {},
   "outputs": [
    {
     "data": {
      "text/plain": [
       "[('prim::Constant', (), ('%var0',)),\n",
       " ('prim::Constant', (), ('%var1',)),\n",
       " ('prim::Constant', (), ('%var2',)),\n",
       " ('prim::Constant', (), ('%var3',)),\n",
       " ('prim::Loop', ('%var1', '%var0', '%var2'), ('%var4',))]"
      ]
     },
     "execution_count": 23,
     "metadata": {},
     "output_type": "execute_result"
    }
   ],
   "source": [
    "normalize_graph_structure(graph_2)"
   ]
  },
  {
   "cell_type": "code",
   "execution_count": 24,
   "metadata": {},
   "outputs": [
    {
     "data": {
      "text/plain": [
       "[('prim::Constant', (), ('7',)),\n",
       " ('prim::Constant', (), ('35',)),\n",
       " ('prim::Constant', (), ('y.1',)),\n",
       " ('prim::Constant', (), ('3',)),\n",
       " ('prim::Loop', ('35', '7', 'y.1'), ('y',))]"
      ]
     },
     "execution_count": 24,
     "metadata": {},
     "output_type": "execute_result"
    }
   ],
   "source": [
    "extract_graph_semantics(graph_1)"
   ]
  },
  {
   "cell_type": "code",
   "execution_count": 25,
   "metadata": {},
   "outputs": [
    {
     "data": {
      "text/plain": [
       "['7 defined in (%7 : bool = prim::Constant[value=1]() # /tmp/ipykernel_2944385/401325865.py:5:8\\n) = prim::Constant()',\n",
       " '35 defined in (%35 : int = prim::Constant[value=9]()\\n) = prim::Constant()',\n",
       " 'y.1 defined in (%y.1 : int = prim::Constant[value=0]() # /tmp/ipykernel_2944385/401325865.py:4:12\\n) = prim::Constant()',\n",
       " '3 defined in (%3 : int = prim::Constant[value=1]() # /tmp/ipykernel_2944385/401325865.py:5:23\\n) = prim::Constant()',\n",
       " 'y defined in (%y : int = prim::Loop(%35, %7, %y.1) # /tmp/ipykernel_2944385/401325865.py:5:8\\n  block0(%8 : int, %y.11 : int):\\n    %i.1 : int = aten::__derive_index(%8, %3, %3) # /tmp/ipykernel_2944385/401325865.py:5:8\\n    %16 : Tensor = aten::select(%x.1, %y.1, %i.1) # /tmp/ipykernel_2944385/401325865.py:6:20\\n    %y.5 : Tensor = aten::add(%16, %y.11, %3) # <string>:5:9\\n    %20 : int = aten::IntImplicit(%y.5) # /tmp/ipykernel_2944385/401325865.py:6:12\\n    -> (%7, %20)\\n) = prim::Loop(35 defined in (%35 : int = prim::Constant[value=9]()\\n), 7 defined in (%7 : bool = prim::Constant[value=1]() # /tmp/ipykernel_2944385/401325865.py:5:8\\n), y.1 defined in (%y.1 : int = prim::Constant[value=0]() # /tmp/ipykernel_2944385/401325865.py:4:12\\n))']"
      ]
     },
     "execution_count": 25,
     "metadata": {},
     "output_type": "execute_result"
    }
   ],
   "source": [
    "extract_functional_ops(graph_1)"
   ]
  },
  {
   "cell_type": "code",
   "execution_count": 26,
   "metadata": {},
   "outputs": [
    {
     "data": {
      "text/plain": [
       "['6 defined in (%6 : bool = prim::Constant[value=1]() # /tmp/ipykernel_2944385/401325865.py:13:8\\n) = prim::Constant()',\n",
       " '34 defined in (%34 : int = prim::Constant[value=9]()\\n) = prim::Constant()',\n",
       " 'y.1 defined in (%y.1 : int = prim::Constant[value=0]() # /tmp/ipykernel_2944385/401325865.py:12:12\\n) = prim::Constant()',\n",
       " '3 defined in (%3 : int = prim::Constant[value=1]() # /tmp/ipykernel_2944385/401325865.py:13:23\\n) = prim::Constant()',\n",
       " 'y defined in (%y : int = prim::Loop(%34, %6, %y.1) # /tmp/ipykernel_2944385/401325865.py:13:8\\n  block0(%7 : int, %y.11 : int):\\n    %i.1 : int = aten::__derive_index(%7, %3, %3) # /tmp/ipykernel_2944385/401325865.py:13:8\\n    %14 : Tensor = aten::select(%x.1, %y.1, %i.1) # /tmp/ipykernel_2944385/401325865.py:14:16\\n    %y.5 : Tensor = aten::add(%14, %y.11, %3) # /tmp/ipykernel_2944385/401325865.py:14:16\\n    %19 : int = aten::IntImplicit(%y.5) # /tmp/ipykernel_2944385/401325865.py:14:12\\n    -> (%6, %19)\\n) = prim::Loop(34 defined in (%34 : int = prim::Constant[value=9]()\\n), 6 defined in (%6 : bool = prim::Constant[value=1]() # /tmp/ipykernel_2944385/401325865.py:13:8\\n), y.1 defined in (%y.1 : int = prim::Constant[value=0]() # /tmp/ipykernel_2944385/401325865.py:12:12\\n))']"
      ]
     },
     "execution_count": 26,
     "metadata": {},
     "output_type": "execute_result"
    }
   ],
   "source": [
    "extract_functional_ops(graph_2)"
   ]
  },
  {
   "cell_type": "code",
   "execution_count": 27,
   "metadata": {},
   "outputs": [],
   "source": [
    "def extract_operator_sequence(graph):\n",
    "    return [node.kind() for node in graph.nodes()]"
   ]
  },
  {
   "cell_type": "code",
   "execution_count": 28,
   "metadata": {},
   "outputs": [],
   "source": [
    "ops1 = extract_operator_sequence(graph_1)\n",
    "ops2 = extract_operator_sequence(graph_2)"
   ]
  },
  {
   "cell_type": "code",
   "execution_count": 29,
   "metadata": {},
   "outputs": [
    {
     "name": "stdout",
     "output_type": "stream",
     "text": [
      "True\n"
     ]
    }
   ],
   "source": [
    "print(ops1 == ops2)"
   ]
  },
  {
   "cell_type": "code",
   "execution_count": 30,
   "metadata": {},
   "outputs": [
    {
     "data": {
      "text/plain": [
       "['prim::Constant',\n",
       " 'prim::Constant',\n",
       " 'prim::Constant',\n",
       " 'prim::Constant',\n",
       " 'prim::Loop']"
      ]
     },
     "execution_count": 30,
     "metadata": {},
     "output_type": "execute_result"
    }
   ],
   "source": [
    "ops1"
   ]
  },
  {
   "cell_type": "code",
   "execution_count": null,
   "metadata": {},
   "outputs": [],
   "source": []
  },
  {
   "cell_type": "code",
   "execution_count": null,
   "metadata": {},
   "outputs": [],
   "source": []
  },
  {
   "cell_type": "code",
   "execution_count": null,
   "metadata": {},
   "outputs": [],
   "source": []
  },
  {
   "cell_type": "code",
   "execution_count": null,
   "metadata": {},
   "outputs": [],
   "source": []
  }
 ],
 "metadata": {
  "kernelspec": {
   "display_name": "molgen",
   "language": "python",
   "name": "python3"
  },
  "language_info": {
   "codemirror_mode": {
    "name": "ipython",
    "version": 3
   },
   "file_extension": ".py",
   "mimetype": "text/x-python",
   "name": "python",
   "nbconvert_exporter": "python",
   "pygments_lexer": "ipython3",
   "version": "3.11.7"
  }
 },
 "nbformat": 4,
 "nbformat_minor": 2
}
