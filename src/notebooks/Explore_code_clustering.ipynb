{
 "cells": [
  {
   "cell_type": "code",
   "execution_count": 10,
   "metadata": {},
   "outputs": [],
   "source": [
    "import ast\n",
    "import json\n",
    "import ijson\n",
    "from tqdm import tqdm "
   ]
  },
  {
   "cell_type": "code",
   "execution_count": 11,
   "metadata": {},
   "outputs": [],
   "source": [
    "with open(\"/auto/home/knarik/Molecular_Generation_with_GDB13/src/ablations/generations/generations/code/clusters.json\") as f:\n",
    "    clusters = json.load(f)  "
   ]
  },
  {
   "cell_type": "code",
   "execution_count": 12,
   "metadata": {},
   "outputs": [
    {
     "data": {
      "text/plain": [
       "656656"
      ]
     },
     "execution_count": 12,
     "metadata": {},
     "output_type": "execute_result"
    }
   ],
   "source": [
    "len(clusters)"
   ]
  },
  {
   "cell_type": "code",
   "execution_count": 13,
   "metadata": {},
   "outputs": [],
   "source": [
    "def get_bytecode(code_str):\n",
    "    \"\"\"Compile code string to bytecode.\"\"\"\n",
    "    code = ast.parse(code_str)\n",
    "    \n",
    "    # Bytecode Object\n",
    "    bytecode = compile(code, '<string>', 'exec')\n",
    "\n",
    "    # Bytecode bytes\n",
    "    bytecode = bytecode.co_code  \n",
    "\n",
    "    return bytecode"
   ]
  },
  {
   "cell_type": "code",
   "execution_count": 14,
   "metadata": {},
   "outputs": [],
   "source": [
    "class CanonicalizeCommutativeOps(ast.NodeTransformer):\n",
    "    def visit_BinOp(self, node):\n",
    "        self.generic_visit(node)\n",
    "\n",
    "        if isinstance(node.op, (ast.Add, ast.Mult)):\n",
    "            operands = self.flatten_commutative_chain(node, type(node.op))\n",
    "            sorted_operands = sorted(operands, key=self.sort_key)\n",
    "\n",
    "            return self.build_commutative_chain(sorted_operands, node.op)\n",
    "\n",
    "        return node\n",
    "\n",
    "    def flatten_commutative_chain(self, node, op_type):\n",
    "        if isinstance(node, ast.BinOp) and isinstance(node.op, op_type):\n",
    "\n",
    "            return self.flatten_commutative_chain(node.left, op_type) + \\\n",
    "                   self.flatten_commutative_chain(node.right, op_type)\n",
    "        else:\n",
    "            return [node]\n",
    "\n",
    "    def build_commutative_chain(self, operands, op):\n",
    "        if not operands:\n",
    "            return ast.Constant(value=0 if isinstance(op, ast.Add) else 1)\n",
    "\n",
    "        expr = operands[0]\n",
    "\n",
    "        for operand in operands[1:]:\n",
    "            expr = ast.BinOp(left=expr, op=op, right=operand)\n",
    "\n",
    "        return expr\n",
    "\n",
    "    def sort_key(self, node):\n",
    "        if isinstance(node, ast.Constant):\n",
    "            return (0, repr(node.value))\n",
    "        elif isinstance(node, ast.Name):\n",
    "            return (1, node.id)\n",
    "        else:\n",
    "            return (2, ast.dump(node))\n",
    "\n",
    "\n",
    "def normalize_code(code):\n",
    "    tree = ast.parse(code)\n",
    "    normalized = CanonicalizeCommutativeOps().visit(tree)\n",
    "    ast.fix_missing_locations(normalized)\n",
    "\n",
    "    return ast.unparse(normalized)"
   ]
  },
  {
   "cell_type": "code",
   "execution_count": 15,
   "metadata": {},
   "outputs": [
    {
     "name": "stderr",
     "output_type": "stream",
     "text": [
      "0it [00:00, ?it/s]"
     ]
    },
    {
     "name": "stderr",
     "output_type": "stream",
     "text": [
      "10000it [00:02, 3461.50it/s]\n"
     ]
    }
   ],
   "source": [
    "\n",
    "with open(\"/auto/home/knarik/Molecular_Generation_with_GDB13/src/data/data/data_bin_python/valid/val.jsonl\", \"r\") as f_val:\n",
    "    with open(\"/auto/home/knarik/Molecular_Generation_with_GDB13/src/ablations/generations/generations/code/random_output.jsonl\", \"a\") as f_out:\n",
    "        for line in tqdm(f_val):\n",
    "            data = json.loads(line)\n",
    "            code_line = data[\"text\"] \n",
    "            \n",
    "            normalized_line = normalize_code(code_line)\n",
    "            bytecode = get_bytecode(str(normalized_line))\n",
    "\n",
    "            for item in clusters[str(bytecode)]:\n",
    "                json_obj = {\"text\": item}\n",
    "                f_out.write(json.dumps(json_obj) + \"\\n\")"
   ]
  },
  {
   "cell_type": "code",
   "execution_count": null,
   "metadata": {},
   "outputs": [],
   "source": []
  },
  {
   "cell_type": "code",
   "execution_count": null,
   "metadata": {},
   "outputs": [],
   "source": []
  },
  {
   "cell_type": "code",
   "execution_count": null,
   "metadata": {},
   "outputs": [],
   "source": []
  },
  {
   "cell_type": "code",
   "execution_count": null,
   "metadata": {},
   "outputs": [],
   "source": []
  }
 ],
 "metadata": {
  "kernelspec": {
   "display_name": "molgen",
   "language": "python",
   "name": "python3"
  },
  "language_info": {
   "codemirror_mode": {
    "name": "ipython",
    "version": 3
   },
   "file_extension": ".py",
   "mimetype": "text/x-python",
   "name": "python",
   "nbconvert_exporter": "python",
   "pygments_lexer": "ipython3",
   "version": "3.11.7"
  }
 },
 "nbformat": 4,
 "nbformat_minor": 2
}
