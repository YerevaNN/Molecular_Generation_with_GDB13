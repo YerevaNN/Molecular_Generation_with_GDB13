{
 "cells": [
  {
   "cell_type": "code",
   "execution_count": 1,
   "metadata": {},
   "outputs": [
    {
     "name": "stderr",
     "output_type": "stream",
     "text": [
      "/auto/home/knarik/miniconda3/envs/code/lib/python3.10/site-packages/tqdm/auto.py:21: TqdmWarning: IProgress not found. Please update jupyter and ipywidgets. See https://ipywidgets.readthedocs.io/en/stable/user_install.html\n",
      "  from .autonotebook import tqdm as notebook_tqdm\n"
     ]
    }
   ],
   "source": [
    "import torch\n",
    "from transformers import AutoModelForCausalLM, AutoTokenizer, LlamaForCausalLM"
   ]
  },
  {
   "cell_type": "code",
   "execution_count": 2,
   "metadata": {},
   "outputs": [],
   "source": [
    "tokenizer = AutoTokenizer.from_pretrained(\"meta-llama/Llama-3.2-1B\")\n",
    "inputs = tokenizer([\"\"]*1, return_tensors=\"pt\").to(\"cuda\")"
   ]
  },
  {
   "cell_type": "code",
   "execution_count": 3,
   "metadata": {},
   "outputs": [
    {
     "data": {
      "text/plain": [
       "{'input_ids': tensor([[128000]], device='cuda:0'), 'attention_mask': tensor([[1]], device='cuda:0')}"
      ]
     },
     "execution_count": 3,
     "metadata": {},
     "output_type": "execute_result"
    }
   ],
   "source": [
    "inputs"
   ]
  },
  {
   "cell_type": "code",
   "execution_count": 4,
   "metadata": {},
   "outputs": [
    {
     "data": {
      "text/plain": [
       "LlamaForCausalLM(\n",
       "  (model): LlamaModel(\n",
       "    (embed_tokens): Embedding(128256, 2048)\n",
       "    (layers): ModuleList(\n",
       "      (0-15): 16 x LlamaDecoderLayer(\n",
       "        (self_attn): LlamaAttention(\n",
       "          (q_proj): Linear(in_features=2048, out_features=2048, bias=False)\n",
       "          (k_proj): Linear(in_features=2048, out_features=512, bias=False)\n",
       "          (v_proj): Linear(in_features=2048, out_features=512, bias=False)\n",
       "          (o_proj): Linear(in_features=2048, out_features=2048, bias=False)\n",
       "        )\n",
       "        (mlp): LlamaMLP(\n",
       "          (gate_proj): Linear(in_features=2048, out_features=8192, bias=False)\n",
       "          (up_proj): Linear(in_features=2048, out_features=8192, bias=False)\n",
       "          (down_proj): Linear(in_features=8192, out_features=2048, bias=False)\n",
       "          (act_fn): SiLU()\n",
       "        )\n",
       "        (input_layernorm): LlamaRMSNorm((2048,), eps=1e-05)\n",
       "        (post_attention_layernorm): LlamaRMSNorm((2048,), eps=1e-05)\n",
       "      )\n",
       "    )\n",
       "    (norm): LlamaRMSNorm((2048,), eps=1e-05)\n",
       "    (rotary_emb): LlamaRotaryEmbedding()\n",
       "  )\n",
       "  (lm_head): Linear(in_features=2048, out_features=128256, bias=False)\n",
       ")"
      ]
     },
     "execution_count": 4,
     "metadata": {},
     "output_type": "execute_result"
    }
   ],
   "source": [
    "# model = AutoModelForCausalLM.from_pretrained(\"meta-llama/Llama-2-7b-hf\", torch_dtype=torch.float16).to(\"cuda\")\n",
    "model_path = \"/auto/home/knarik/Molecular_Generation_with_GDB13/src/checkpoints/checkpoints_code/Llama-3-1B_tit_hf_4_epochs/step-3126\"\n",
    "\n",
    "model = LlamaForCausalLM.from_pretrained(pretrained_model_name_or_path=model_path, torch_dtype=torch.float16).to(\"cuda\")\n",
    "model.eval()"
   ]
  },
  {
   "cell_type": "code",
   "execution_count": 7,
   "metadata": {},
   "outputs": [
    {
     "name": "stderr",
     "output_type": "stream",
     "text": [
      "Setting `pad_token_id` to `eos_token_id`:128001 for open-end generation.\n"
     ]
    }
   ],
   "source": [
    "outputs = model.generate(\n",
    "    **inputs, \n",
    "    max_new_tokens=45, \n",
    "    num_beams=100, \n",
    "    num_beam_groups=10, \n",
    "    diversity_penalty=1.0, \n",
    "    do_sample=False,\n",
    "    num_return_sequences = 10,\n",
    "    )"
   ]
  },
  {
   "cell_type": "code",
   "execution_count": 8,
   "metadata": {},
   "outputs": [
    {
     "data": {
      "text/plain": [
       "['a = 7\\nb = (a + 7)+(a - 7)\\nfor c in range(7, 10, 1) :\\n\\tprint(a / 7)',\n",
       " 'a = 7\\nb = (a + 7)+(a - 7)\\nfor c in range(7, 10, 1) :\\n\\tprint(a / 8)',\n",
       " 'a = 7\\nb = (a + 7)+(a - 7)\\nfor c in range(7, 10, 1) :\\n\\tprint(b / 7)',\n",
       " 'a = 7\\nb = (a + 7)+(a - 7)\\nfor c in range(7, 10, 1) :\\n\\tprint(a - 7)',\n",
       " 'a = 7\\nb = (a + 7)+(a - 7)\\nfor c in range(7, 10, 1) :\\n\\tprint(b / 8)',\n",
       " 'a = 7\\nb = (a + 7)+(a / 7)\\nfor c in range(7, 10, 1) :\\n\\tprint(a - 7)',\n",
       " 'a = 7\\nb = (a + 7)+(a - 7)\\nfor c in range(7, 10, 1) :\\n\\tprint(a - 8)',\n",
       " 'a = 7\\nb = (a + 7)+(a - 7)\\nfor c in range(8, 10, 1) :\\n\\tprint(a - 7)',\n",
       " 'a = 7\\nb = (a + 7)+(a / 7)\\nfor c in range(7, 10, 1) :\\n\\tprint(a - 8)',\n",
       " 'a = 7\\nb = (a + 7)+(a - 8)\\nfor c in range(7, 10, 1) :\\n\\tprint(a - 7)']"
      ]
     },
     "execution_count": 8,
     "metadata": {},
     "output_type": "execute_result"
    }
   ],
   "source": [
    "tokenizer.batch_decode(outputs, skip_special_tokens=True)"
   ]
  },
  {
   "cell_type": "code",
   "execution_count": null,
   "metadata": {},
   "outputs": [],
   "source": []
  },
  {
   "cell_type": "code",
   "execution_count": null,
   "metadata": {},
   "outputs": [],
   "source": []
  },
  {
   "cell_type": "code",
   "execution_count": null,
   "metadata": {},
   "outputs": [],
   "source": []
  }
 ],
 "metadata": {
  "kernelspec": {
   "display_name": "code",
   "language": "python",
   "name": "python3"
  },
  "language_info": {
   "codemirror_mode": {
    "name": "ipython",
    "version": 3
   },
   "file_extension": ".py",
   "mimetype": "text/x-python",
   "name": "python",
   "nbconvert_exporter": "python",
   "pygments_lexer": "ipython3",
   "version": "3.10.17"
  }
 },
 "nbformat": 4,
 "nbformat_minor": 2
}
