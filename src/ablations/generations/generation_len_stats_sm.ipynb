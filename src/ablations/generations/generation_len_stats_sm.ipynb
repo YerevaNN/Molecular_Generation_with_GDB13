{
 "cells": [
  {
   "cell_type": "code",
   "execution_count": 3,
   "metadata": {},
   "outputs": [],
   "source": [
    "import re\n",
    "import glob\n",
    "import json\n",
    "import random\n",
    "from rdkit import Chem\n",
    "from tqdm import tqdm\n",
    "import pandas as pd\n",
    "import matplotlib.pyplot as plt"
   ]
  },
  {
   "cell_type": "code",
   "execution_count": 4,
   "metadata": {},
   "outputs": [
    {
     "data": {
      "text/plain": [
       "['OPT_1.2B_ep_1_aspirin_0.4_sf_1000K_gen_1000000.csv',\n",
       " 'OPT_1.2B_ep_1_sas_3_sf_1000K_gen_1000000.csv',\n",
       " 'OPT_1.2B_ep_1_druglike_0.4_sf_1000K_gen_1000000.csv',\n",
       " 'OPT_1.2B_ep_1_equal_dist_sf_1000K_gen_1000000.csv']"
      ]
     },
     "execution_count": 4,
     "metadata": {},
     "output_type": "execute_result"
    }
   ],
   "source": [
    "paths = [\n",
    "    \"OPT_1.2B_ep_1_aspirin_0.4_sf_1000K_gen_1000000.csv\",\n",
    "    \"OPT_1.2B_ep_1_sas_3_sf_1000K_gen_1000000.csv\",\n",
    "    \"OPT_1.2B_ep_1_druglike_0.4_sf_1000K_gen_1000000.csv\",\n",
    "    \"OPT_1.2B_ep_1_equal_dist_sf_1000K_gen_1000000.csv\"\n",
    "]\n",
    "paths"
   ]
  },
  {
   "cell_type": "code",
   "execution_count": 5,
   "metadata": {},
   "outputs": [
    {
     "name": "stderr",
     "output_type": "stream",
     "text": [
      "100%|██████████| 1000192/1000192 [01:37<00:00, 10303.25it/s]\n",
      "100%|██████████| 1000192/1000192 [01:33<00:00, 10661.56it/s]\n",
      "100%|██████████| 1000192/1000192 [01:37<00:00, 10221.70it/s]\n",
      " 47%|████▋     | 470350/1000192 [00:48<00:54, 9803.79it/s][18:54:37] Explicit valence for atom # 16 Br, 2, is greater than permitted\n",
      " 47%|████▋     | 472319/1000192 [00:48<00:53, 9823.39it/s]"
     ]
    },
    {
     "name": "stdout",
     "output_type": "stream",
     "text": [
      "error\n"
     ]
    },
    {
     "name": "stderr",
     "output_type": "stream",
     "text": [
      "100%|██████████| 1000192/1000192 [01:42<00:00, 9784.02it/s]\n"
     ]
    }
   ],
   "source": [
    "smiles_data = {}\n",
    "\n",
    "for path in paths:\n",
    "    subset_name = path.split(\"ep_1_\")[1].split(\"_sf\")[0]\n",
    "    smiles_data[subset_name] = []\n",
    "\n",
    "    with open(path, \"r\") as file_1:\n",
    "        data = file_1.read().splitlines()   \n",
    "        for line_str in tqdm(data):\n",
    "            try:\n",
    "                canon_sm = Chem.MolToSmiles(Chem.MolFromSmiles(line_str), canonical=True)\n",
    "            except:\n",
    "                print(\"error\")    \n",
    "                \n",
    "            smiles_data[subset_name].append(canon_sm)"
   ]
  },
  {
   "cell_type": "code",
   "execution_count": 7,
   "metadata": {},
   "outputs": [
    {
     "data": {
      "text/plain": [
       "['CC(O)C=CC(=O)C=COC(C)C', 'CC(O)C(C)(C)C1CC1COC=O', 'O=CCC1CC2OC(CC1O)C2=O']"
      ]
     },
     "execution_count": 7,
     "metadata": {},
     "output_type": "execute_result"
    }
   ],
   "source": [
    "smiles_data[\"aspirin_0.4\"][:3]"
   ]
  },
  {
   "cell_type": "code",
   "execution_count": 15,
   "metadata": {},
   "outputs": [
    {
     "name": "stdout",
     "output_type": "stream",
     "text": [
      "938452\n",
      "938452\n",
      "938452\n",
      "938452\n"
     ]
    }
   ],
   "source": [
    "# making unique counts\n",
    "for k in smiles_data:\n",
    "    smiles_data[k] = list(set(smiles_data[k][:938452]))\n",
    "    print(len(smiles_data[k]))"
   ]
  },
  {
   "cell_type": "code",
   "execution_count": 7,
   "metadata": {},
   "outputs": [
    {
     "data": {
      "text/plain": [
       "13"
      ]
     },
     "execution_count": 7,
     "metadata": {},
     "output_type": "execute_result"
    }
   ],
   "source": [
    "Chem.MolFromSmiles(smiles_data[\"aspirin_0.4\"][0]).GetNumHeavyAtoms()"
   ]
  },
  {
   "cell_type": "code",
   "execution_count": 16,
   "metadata": {},
   "outputs": [
    {
     "data": {
      "text/html": [
       "<div>\n",
       "<style scoped>\n",
       "    .dataframe tbody tr th:only-of-type {\n",
       "        vertical-align: middle;\n",
       "    }\n",
       "\n",
       "    .dataframe tbody tr th {\n",
       "        vertical-align: top;\n",
       "    }\n",
       "\n",
       "    .dataframe thead th {\n",
       "        text-align: right;\n",
       "    }\n",
       "</style>\n",
       "<table border=\"1\" class=\"dataframe\">\n",
       "  <thead>\n",
       "    <tr style=\"text-align: right;\">\n",
       "      <th></th>\n",
       "      <th>aspirin_0.4</th>\n",
       "      <th>sas_3</th>\n",
       "      <th>druglike_0.4</th>\n",
       "      <th>equal_dist</th>\n",
       "    </tr>\n",
       "  </thead>\n",
       "  <tbody>\n",
       "    <tr>\n",
       "      <th>0</th>\n",
       "      <td>CC(O)C=CC(=O)C=COC(C)C</td>\n",
       "      <td>C=C1COc2cnc(CC)cc21</td>\n",
       "      <td>CC1(CO)C2C(=O)NC(=O)C(O)C21</td>\n",
       "      <td>CCN(NC=N)C(=NC1CC1)OC</td>\n",
       "    </tr>\n",
       "    <tr>\n",
       "      <th>1</th>\n",
       "      <td>CC(O)C(C)(C)C1CC1COC=O</td>\n",
       "      <td>Cc1c(N)cc2ncnc-2cc1O</td>\n",
       "      <td>C#CC=NNc1cc(N)c[nH]c1=O</td>\n",
       "      <td>CNN=C(C#CCC1(C)CC1)NC</td>\n",
       "    </tr>\n",
       "    <tr>\n",
       "      <th>2</th>\n",
       "      <td>O=CCC1CC2OC(CC1O)C2=O</td>\n",
       "      <td>CCNC(=O)C(CC)(CC)C(=O)O</td>\n",
       "      <td>Cc1oc(O)c2c1C1CC(O)C2N1</td>\n",
       "      <td>C=COC=CC12CC(C)OC(C1)C2</td>\n",
       "    </tr>\n",
       "    <tr>\n",
       "      <th>3</th>\n",
       "      <td>CCC1C(O)C2OC(C2=O)C1O</td>\n",
       "      <td>CNCC(=O)Nc1cc(C)c(N)o1</td>\n",
       "      <td>CNc1cc(=O)c(CO)c(N)cn1</td>\n",
       "      <td>CC1(C)NN=C2CN=CN(C=O)C21</td>\n",
       "    </tr>\n",
       "    <tr>\n",
       "      <th>4</th>\n",
       "      <td>C#CC(C)OC1C(O)C1(C#N)C=O</td>\n",
       "      <td>CCOC(=O)c1ccc(O)nc1N</td>\n",
       "      <td>CCOC(=O)c1ccc(O)nc1N</td>\n",
       "      <td>Cc1[nH]nnc1C(C)CCC(=O)O</td>\n",
       "    </tr>\n",
       "  </tbody>\n",
       "</table>\n",
       "</div>"
      ],
      "text/plain": [
       "                aspirin_0.4                    sas_3   \n",
       "0    CC(O)C=CC(=O)C=COC(C)C      C=C1COc2cnc(CC)cc21  \\\n",
       "1    CC(O)C(C)(C)C1CC1COC=O     Cc1c(N)cc2ncnc-2cc1O   \n",
       "2     O=CCC1CC2OC(CC1O)C2=O  CCNC(=O)C(CC)(CC)C(=O)O   \n",
       "3     CCC1C(O)C2OC(C2=O)C1O   CNCC(=O)Nc1cc(C)c(N)o1   \n",
       "4  C#CC(C)OC1C(O)C1(C#N)C=O     CCOC(=O)c1ccc(O)nc1N   \n",
       "\n",
       "                  druglike_0.4                equal_dist  \n",
       "0  CC1(CO)C2C(=O)NC(=O)C(O)C21     CCN(NC=N)C(=NC1CC1)OC  \n",
       "1      C#CC=NNc1cc(N)c[nH]c1=O     CNN=C(C#CCC1(C)CC1)NC  \n",
       "2      Cc1oc(O)c2c1C1CC(O)C2N1   C=COC=CC12CC(C)OC(C1)C2  \n",
       "3       CNc1cc(=O)c(CO)c(N)cn1  CC1(C)NN=C2CN=CN(C=O)C21  \n",
       "4         CCOC(=O)c1ccc(O)nc1N   Cc1[nH]nnc1C(C)CCC(=O)O  "
      ]
     },
     "execution_count": 16,
     "metadata": {},
     "output_type": "execute_result"
    }
   ],
   "source": [
    "df = pd.DataFrame(smiles_data)\n",
    "df.head()"
   ]
  },
  {
   "cell_type": "code",
   "execution_count": 9,
   "metadata": {},
   "outputs": [
    {
     "data": {
      "text/plain": [
       "939618"
      ]
     },
     "execution_count": 9,
     "metadata": {},
     "output_type": "execute_result"
    }
   ],
   "source": [
    "len(df)"
   ]
  },
  {
   "cell_type": "code",
   "execution_count": 17,
   "metadata": {},
   "outputs": [],
   "source": [
    "def get_heavy_atoms(x):\n",
    "    num = 0\n",
    "    try:\n",
    "        num = Chem.MolFromSmiles(x).GetNumHeavyAtoms()\n",
    "    except:\n",
    "        print(\"error\") \n",
    "\n",
    "    return num"
   ]
  },
  {
   "cell_type": "code",
   "execution_count": 18,
   "metadata": {},
   "outputs": [],
   "source": [
    "for k in smiles_data:\n",
    "    try:\n",
    "        df[f\"{k}_lenghts\"] = df[k].apply(lambda x: get_heavy_atoms(x))\n",
    "    except:\n",
    "        print(\"error\")"
   ]
  },
  {
   "cell_type": "code",
   "execution_count": 20,
   "metadata": {},
   "outputs": [
    {
     "data": {
      "text/html": [
       "<div>\n",
       "<style scoped>\n",
       "    .dataframe tbody tr th:only-of-type {\n",
       "        vertical-align: middle;\n",
       "    }\n",
       "\n",
       "    .dataframe tbody tr th {\n",
       "        vertical-align: top;\n",
       "    }\n",
       "\n",
       "    .dataframe thead th {\n",
       "        text-align: right;\n",
       "    }\n",
       "</style>\n",
       "<table border=\"1\" class=\"dataframe\">\n",
       "  <thead>\n",
       "    <tr style=\"text-align: right;\">\n",
       "      <th></th>\n",
       "      <th>aspirin_0.4</th>\n",
       "      <th>sas_3</th>\n",
       "      <th>druglike_0.4</th>\n",
       "      <th>equal_dist</th>\n",
       "      <th>aspirin_0.4_lenghts</th>\n",
       "      <th>sas_3_lenghts</th>\n",
       "      <th>druglike_0.4_lenghts</th>\n",
       "      <th>equal_dist_lenghts</th>\n",
       "    </tr>\n",
       "  </thead>\n",
       "  <tbody>\n",
       "    <tr>\n",
       "      <th>0</th>\n",
       "      <td>CC(O)C=CC(=O)C=COC(C)C</td>\n",
       "      <td>C=C1COc2cnc(CC)cc21</td>\n",
       "      <td>CC1(CO)C2C(=O)NC(=O)C(O)C21</td>\n",
       "      <td>CCN(NC=N)C(=NC1CC1)OC</td>\n",
       "      <td>13</td>\n",
       "      <td>12</td>\n",
       "      <td>13</td>\n",
       "      <td>13</td>\n",
       "    </tr>\n",
       "    <tr>\n",
       "      <th>1</th>\n",
       "      <td>CC(O)C(C)(C)C1CC1COC=O</td>\n",
       "      <td>Cc1c(N)cc2ncnc-2cc1O</td>\n",
       "      <td>C#CC=NNc1cc(N)c[nH]c1=O</td>\n",
       "      <td>CNN=C(C#CCC1(C)CC1)NC</td>\n",
       "      <td>13</td>\n",
       "      <td>13</td>\n",
       "      <td>13</td>\n",
       "      <td>13</td>\n",
       "    </tr>\n",
       "    <tr>\n",
       "      <th>2</th>\n",
       "      <td>O=CCC1CC2OC(CC1O)C2=O</td>\n",
       "      <td>CCNC(=O)C(CC)(CC)C(=O)O</td>\n",
       "      <td>Cc1oc(O)c2c1C1CC(O)C2N1</td>\n",
       "      <td>C=COC=CC12CC(C)OC(C1)C2</td>\n",
       "      <td>13</td>\n",
       "      <td>13</td>\n",
       "      <td>13</td>\n",
       "      <td>13</td>\n",
       "    </tr>\n",
       "    <tr>\n",
       "      <th>3</th>\n",
       "      <td>CCC1C(O)C2OC(C2=O)C1O</td>\n",
       "      <td>CNCC(=O)Nc1cc(C)c(N)o1</td>\n",
       "      <td>CNc1cc(=O)c(CO)c(N)cn1</td>\n",
       "      <td>CC1(C)NN=C2CN=CN(C=O)C21</td>\n",
       "      <td>12</td>\n",
       "      <td>13</td>\n",
       "      <td>13</td>\n",
       "      <td>13</td>\n",
       "    </tr>\n",
       "    <tr>\n",
       "      <th>4</th>\n",
       "      <td>C#CC(C)OC1C(O)C1(C#N)C=O</td>\n",
       "      <td>CCOC(=O)c1ccc(O)nc1N</td>\n",
       "      <td>CCOC(=O)c1ccc(O)nc1N</td>\n",
       "      <td>Cc1[nH]nnc1C(C)CCC(=O)O</td>\n",
       "      <td>13</td>\n",
       "      <td>13</td>\n",
       "      <td>13</td>\n",
       "      <td>13</td>\n",
       "    </tr>\n",
       "    <tr>\n",
       "      <th>5</th>\n",
       "      <td>O=CC=C1CCC=CC1(O)C=O</td>\n",
       "      <td>CN(C)CCOc1ccc(O)s1</td>\n",
       "      <td>CC(=O)NC12CCC(O)C1(N)CC2</td>\n",
       "      <td>CNC1COCC(C)N(C=N)C1C</td>\n",
       "      <td>12</td>\n",
       "      <td>12</td>\n",
       "      <td>13</td>\n",
       "      <td>13</td>\n",
       "    </tr>\n",
       "    <tr>\n",
       "      <th>6</th>\n",
       "      <td>CC=C1OC(C)(C)C(=CC=O)C1=O</td>\n",
       "      <td>CCc1c(N)ncnc1N(C)C</td>\n",
       "      <td>C=C1C=C(C)CC(C(C)N)C1O</td>\n",
       "      <td>C=CC1=C(NC=O)C2CN2N1C=O</td>\n",
       "      <td>13</td>\n",
       "      <td>12</td>\n",
       "      <td>12</td>\n",
       "      <td>13</td>\n",
       "    </tr>\n",
       "    <tr>\n",
       "      <th>7</th>\n",
       "      <td>CC(=O)OC1(C)C=CCC=C1CO</td>\n",
       "      <td>Cc1cnc(C=O)c(C2CC2)c1C</td>\n",
       "      <td>CCC(C=O)=CNc1cscc1O</td>\n",
       "      <td>CC1C=CC23C(=NN)C=CC2C3N1</td>\n",
       "      <td>13</td>\n",
       "      <td>13</td>\n",
       "      <td>13</td>\n",
       "      <td>13</td>\n",
       "    </tr>\n",
       "    <tr>\n",
       "      <th>8</th>\n",
       "      <td>C=C(C=O)C1C(=O)OC1C=CC=O</td>\n",
       "      <td>CCc1ccc2c(=O)n(O)ncn12</td>\n",
       "      <td>Nc1[nH]c(=O)cc2c1CC(O)C2=O</td>\n",
       "      <td>CC1OC2C3C4C5CNCC1(C23)N54</td>\n",
       "      <td>13</td>\n",
       "      <td>13</td>\n",
       "      <td>13</td>\n",
       "      <td>13</td>\n",
       "    </tr>\n",
       "    <tr>\n",
       "      <th>9</th>\n",
       "      <td>CNc1coc(O)c1C(C)OC</td>\n",
       "      <td>C=Cc1ccc(=O)ncc1CCN</td>\n",
       "      <td>CC(=CN)C(=O)Nc1occc1O</td>\n",
       "      <td>C=CC1(C)CC(=O)CN1CC(=C)C</td>\n",
       "      <td>12</td>\n",
       "      <td>13</td>\n",
       "      <td>13</td>\n",
       "      <td>13</td>\n",
       "    </tr>\n",
       "  </tbody>\n",
       "</table>\n",
       "</div>"
      ],
      "text/plain": [
       "                 aspirin_0.4                    sas_3   \n",
       "0     CC(O)C=CC(=O)C=COC(C)C      C=C1COc2cnc(CC)cc21  \\\n",
       "1     CC(O)C(C)(C)C1CC1COC=O     Cc1c(N)cc2ncnc-2cc1O   \n",
       "2      O=CCC1CC2OC(CC1O)C2=O  CCNC(=O)C(CC)(CC)C(=O)O   \n",
       "3      CCC1C(O)C2OC(C2=O)C1O   CNCC(=O)Nc1cc(C)c(N)o1   \n",
       "4   C#CC(C)OC1C(O)C1(C#N)C=O     CCOC(=O)c1ccc(O)nc1N   \n",
       "5       O=CC=C1CCC=CC1(O)C=O       CN(C)CCOc1ccc(O)s1   \n",
       "6  CC=C1OC(C)(C)C(=CC=O)C1=O       CCc1c(N)ncnc1N(C)C   \n",
       "7     CC(=O)OC1(C)C=CCC=C1CO   Cc1cnc(C=O)c(C2CC2)c1C   \n",
       "8   C=C(C=O)C1C(=O)OC1C=CC=O   CCc1ccc2c(=O)n(O)ncn12   \n",
       "9         CNc1coc(O)c1C(C)OC      C=Cc1ccc(=O)ncc1CCN   \n",
       "\n",
       "                  druglike_0.4                 equal_dist   \n",
       "0  CC1(CO)C2C(=O)NC(=O)C(O)C21      CCN(NC=N)C(=NC1CC1)OC  \\\n",
       "1      C#CC=NNc1cc(N)c[nH]c1=O      CNN=C(C#CCC1(C)CC1)NC   \n",
       "2      Cc1oc(O)c2c1C1CC(O)C2N1    C=COC=CC12CC(C)OC(C1)C2   \n",
       "3       CNc1cc(=O)c(CO)c(N)cn1   CC1(C)NN=C2CN=CN(C=O)C21   \n",
       "4         CCOC(=O)c1ccc(O)nc1N    Cc1[nH]nnc1C(C)CCC(=O)O   \n",
       "5     CC(=O)NC12CCC(O)C1(N)CC2       CNC1COCC(C)N(C=N)C1C   \n",
       "6       C=C1C=C(C)CC(C(C)N)C1O    C=CC1=C(NC=O)C2CN2N1C=O   \n",
       "7          CCC(C=O)=CNc1cscc1O   CC1C=CC23C(=NN)C=CC2C3N1   \n",
       "8   Nc1[nH]c(=O)cc2c1CC(O)C2=O  CC1OC2C3C4C5CNCC1(C23)N54   \n",
       "9        CC(=CN)C(=O)Nc1occc1O   C=CC1(C)CC(=O)CN1CC(=C)C   \n",
       "\n",
       "   aspirin_0.4_lenghts  sas_3_lenghts  druglike_0.4_lenghts   \n",
       "0                   13             12                    13  \\\n",
       "1                   13             13                    13   \n",
       "2                   13             13                    13   \n",
       "3                   12             13                    13   \n",
       "4                   13             13                    13   \n",
       "5                   12             12                    13   \n",
       "6                   13             12                    12   \n",
       "7                   13             13                    13   \n",
       "8                   13             13                    13   \n",
       "9                   12             13                    13   \n",
       "\n",
       "   equal_dist_lenghts  \n",
       "0                  13  \n",
       "1                  13  \n",
       "2                  13  \n",
       "3                  13  \n",
       "4                  13  \n",
       "5                  13  \n",
       "6                  13  \n",
       "7                  13  \n",
       "8                  13  \n",
       "9                  13  "
      ]
     },
     "execution_count": 20,
     "metadata": {},
     "output_type": "execute_result"
    }
   ],
   "source": [
    "df[:10]"
   ]
  },
  {
   "cell_type": "code",
   "execution_count": 24,
   "metadata": {},
   "outputs": [
    {
     "data": {
      "text/plain": [
       "equal_dist_lenghts\n",
       "13    830180\n",
       "12     95979\n",
       "11     10038\n",
       "10      1325\n",
       "14       353\n",
       "15       294\n",
       "9        185\n",
       "8         51\n",
       "7         11\n",
       "17         9\n",
       "16         9\n",
       "6          7\n",
       "2          4\n",
       "5          3\n",
       "3          3\n",
       "4          1\n",
       "Name: count, dtype: int64"
      ]
     },
     "execution_count": 24,
     "metadata": {},
     "output_type": "execute_result"
    }
   ],
   "source": [
    "df[\"equal_dist_lenghts\"].value_counts()"
   ]
  },
  {
   "cell_type": "code",
   "execution_count": 63,
   "metadata": {},
   "outputs": [
    {
     "data": {
      "image/png": "[encoded data removed]",
      "text/plain": [
       "<Figure size 1000x800 with 1 Axes>"
      ]
     },
     "metadata": {},
     "output_type": "display_data"
    }
   ],
   "source": [
    "plt.figure(figsize=(10,8))\n",
    "bins=20\n",
    "\n",
    "# ploted_df = df[[\"aspirin_0.4_lenghts\", \"sas_3_lenghts\"]]\n",
    "ploted_df = df[[\"aspirin_0.4_lenghts\", \"sas_3_lenghts\", \"druglike_0.4_lenghts\", \"equal_dist_lenghts\"]]\n",
    "\n",
    "for k in ploted_df.columns:    \n",
    "    ploted_df[k].hist(bins=bins, alpha=1, range=(1.3, 17), histtype = 'step', density=False)\n",
    "\n",
    "\n",
    "plt.xlabel(\"Heavy Atom Counts\")\n",
    "plt.ylabel(\"Frequency\")\n",
    "# plt.yscale(\"log\")\n",
    "plt.title(f\"Distributions of Molecules' Heavy_Atom_Counts by Subsets [bins={bins}]\");\n",
    "plt.legend([x.split(\"_len\")[0] for x in ploted_df.columns], loc='upper right');"
   ]
  },
  {
   "cell_type": "code",
   "execution_count": 43,
   "metadata": {},
   "outputs": [],
   "source": [
    "def randomize_smiles(mol, random_type=\"restricted\"):\n",
    "    if not mol:\n",
    "        return None\n",
    "\n",
    "    if random_type == \"unrestricted\":\n",
    "        return Chem.MolToSmiles(mol, canonical=False, doRandom=True, isomericSmiles=False)\n",
    "    \n",
    "    if random_type == \"restricted\":\n",
    "        new_atom_order = list(range(mol.GetNumHeavyAtoms()))\n",
    "        random.shuffle(new_atom_order)\n",
    "        random_mol = Chem.RenumberAtoms(mol, newOrder=new_atom_order)\n",
    "        return Chem.MolToSmiles(random_mol, canonical=False, isomericSmiles=False)\n",
    "    \n",
    "    raise ValueError(\"Type '{}' is not valid\".format(random_type))"
   ]
  },
  {
   "cell_type": "code",
   "execution_count": 9,
   "metadata": {},
   "outputs": [],
   "source": [
    "sm = \"CCC1COC2CNC1C2(N)CC\""
   ]
  },
  {
   "cell_type": "code",
   "execution_count": 10,
   "metadata": {},
   "outputs": [
    {
     "data": {
      "text/plain": [
       "<rdkit.Chem.rdchem.Mol at 0x7f57cb1df3e0>"
      ]
     },
     "execution_count": 10,
     "metadata": {},
     "output_type": "execute_result"
    }
   ],
   "source": [
    "mol = Chem.MolFromSmiles(sm)\n",
    "mol"
   ]
  },
  {
   "cell_type": "code",
   "execution_count": 11,
   "metadata": {},
   "outputs": [
    {
     "data": {
      "text/plain": [
       "13"
      ]
     },
     "execution_count": 11,
     "metadata": {},
     "output_type": "execute_result"
    }
   ],
   "source": [
    "mol.GetNumHeavyAtoms()"
   ]
  },
  {
   "cell_type": "code",
   "execution_count": 2,
   "metadata": {},
   "outputs": [
    {
     "ename": "NameError",
     "evalue": "name 'df' is not defined",
     "output_type": "error",
     "traceback": [
      "\u001b[0;31m---------------------------------------------------------------------------\u001b[0m",
      "\u001b[0;31mNameError\u001b[0m                                 Traceback (most recent call last)",
      "Cell \u001b[0;32mIn[2], line 1\u001b[0m\n\u001b[0;32m----> 1\u001b[0m df[[\u001b[39m\"\u001b[39m\u001b[39maspirin_0.4_lenghts\u001b[39m\u001b[39m\"\u001b[39m]]\n",
      "\u001b[0;31mNameError\u001b[0m: name 'df' is not defined"
     ]
    }
   ],
   "source": [
    "df[[\"aspirin_0.4_lenghts\"]]"
   ]
  },
  {
   "cell_type": "code",
   "execution_count": null,
   "metadata": {},
   "outputs": [],
   "source": []
  }
 ],
 "metadata": {
  "kernelspec": {
   "display_name": "molgen",
   "language": "python",
   "name": "python3"
  },
  "language_info": {
   "codemirror_mode": {
    "name": "ipython",
    "version": 3
   },
   "file_extension": ".py",
   "mimetype": "text/x-python",
   "name": "python",
   "nbconvert_exporter": "python",
   "pygments_lexer": "ipython3",
   "version": "3.10.12"
  },
  "orig_nbformat": 4
 },
 "nbformat": 4,
 "nbformat_minor": 2
}
