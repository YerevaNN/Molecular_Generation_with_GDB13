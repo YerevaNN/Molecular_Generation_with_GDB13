{
 "cells": [
  {
   "cell_type": "code",
   "execution_count": 1,
   "id": "34c9aca7-f119-467a-b757-54e8c85c0246",
   "metadata": {},
   "outputs": [],
   "source": [
    "import re\n",
    "\n",
    "from rdkit import Chem\n",
    "from tqdm import tqdm\n",
    "import selfies as sf"
   ]
  },
  {
   "cell_type": "code",
   "execution_count": 2,
   "id": "5c26359e-7fbc-41a4-9d31-39e6368179a3",
   "metadata": {},
   "outputs": [],
   "source": [
    "# [Rand] / [Canon] / _\n",
    "prompt = \"_\""
   ]
  },
  {
   "cell_type": "code",
   "execution_count": 3,
   "id": "caaa6b7f-7b40-4ce5-b0a3-a48e259d682f",
   "metadata": {},
   "outputs": [],
   "source": [
    "path = f\"OPT_1.2B_ep_1_half_rand_end_sf_848M_2.00E-04_hf_gradacc_32_gen_10000_{prompt}.csv\""
   ]
  },
  {
   "cell_type": "code",
   "execution_count": 4,
   "id": "e2d97358-60b4-408a-bf75-7aae17f4657c",
   "metadata": {},
   "outputs": [],
   "source": [
    "with open(path, \"r\") as f:\n",
    "    data = f.read().splitlines()          "
   ]
  },
  {
   "cell_type": "code",
   "execution_count": 5,
   "id": "33ab2d7c-d425-4909-a301-ca29b431ac21",
   "metadata": {},
   "outputs": [],
   "source": [
    "data = data[:10000]"
   ]
  },
  {
   "cell_type": "code",
   "execution_count": 6,
   "id": "87df5dd8-c5e0-4b36-978b-6bdc52dda31d",
   "metadata": {},
   "outputs": [],
   "source": [
    "unique_data = list(set(data))"
   ]
  },
  {
   "cell_type": "code",
   "execution_count": 7,
   "id": "da021c25-bc89-49a9-a661-e7a4c632fe94",
   "metadata": {},
   "outputs": [
    {
     "data": {
      "text/plain": [
       "10000"
      ]
     },
     "execution_count": 7,
     "metadata": {},
     "output_type": "execute_result"
    }
   ],
   "source": [
    "len(unique_data)"
   ]
  },
  {
   "cell_type": "code",
   "execution_count": 8,
   "id": "384a3a64-e721-4496-b915-0d4f2084718b",
   "metadata": {},
   "outputs": [
    {
     "name": "stderr",
     "output_type": "stream",
     "text": [
      "100%|████████████████████████████████████████████████████████████████████████████████████████████████████████████████████████████████████████| 10000/10000 [00:03<00:00, 3048.30it/s]\n"
     ]
    }
   ],
   "source": [
    "if prompt == \"_\":\n",
    "    # the tag was set in the end\n",
    "    stats = {\n",
    "        \"invalid_count\": 0,\n",
    "        \"canon_count_[Canon]\": 0, \n",
    "        \"canon_count_[Rand]\": 0, \n",
    "        \"rand_count_[Canon]\": 0,\n",
    "        \"rand_count_[Rand]\": 0\n",
    "    }\n",
    "\n",
    "    for i in tqdm(unique_data):\n",
    "        try:\n",
    "            match = re.search(r\"(.*)\\[([^\\]]+)\\]$\", i)\n",
    "            selfies, end = match.group(1), match.group(2)\n",
    "            end = \"[\" + end + \"]\"\n",
    "    \n",
    "            smiles = sf.decoder(selfies)\n",
    "            canon_smiles = Chem.MolToSmiles(Chem.MolFromSmiles(smiles), canonical=True)\n",
    "            canon_selfies = sf.encoder(canon_smiles)\n",
    "            \n",
    "            if selfies == canon_selfies:\n",
    "                if end == \"[Canon]\":\n",
    "                    stats[\"canon_count_[Canon]\"] += 1\n",
    "                else:\n",
    "                    stats[\"canon_count_[Rand]\"] += 1\n",
    "            else:     \n",
    "                if end == \"[Canon]\":\n",
    "                    stats[\"rand_count_[Canon]\"] += 1\n",
    "                else:\n",
    "                    stats[\"rand_count_[Rand]\"] += 1\n",
    "                    \n",
    "        except Exception as error:\n",
    "            print(error)\n",
    "            stats[\"invalid_count\"] += 1\n",
    "else:\n",
    "    # the prompt is with tags [Canon]/[Rand]\n",
    "    stats = {\n",
    "        \"invalid_count\": 0,\n",
    "        \"canon_count\": 0, \n",
    "        \"non_canon_count\": 0\n",
    "    }\n",
    "\n",
    "    for i in tqdm(unique_data):\n",
    "        try:\n",
    "            selfies = i.split(prompt)[-1]\n",
    "            smiles = sf.decoder(selfies)\n",
    "            canon_smiles = Chem.MolToSmiles(Chem.MolFromSmiles(smiles), canonical=True)\n",
    "            canon_selfies = sf.encoder(canon_smiles)\n",
    "            \n",
    "            if selfies == canon_selfies:\n",
    "                stats[\"canon_count\"] += 1\n",
    "            else:     \n",
    "                stats[\"non_canon_count\"] += 1\n",
    "        except Exception as error:\n",
    "            print(error)\n",
    "            stats[\"invalid_count\"] += 1\n",
    "\n",
    "    ## Old algorithm\n",
    "    # for i in tqdm(unique_data):\n",
    "    #     try:\n",
    "    #         selfies = i.split(prompt)[-1]\n",
    "    #         smiles = sf.decoder(selfies)\n",
    "    #         canon_smiles = Chem.MolToSmiles(Chem.MolFromSmiles(smiles), canonical=True)\n",
    "    #         # canon_selfies = sf.encoder(canon_smiles)\n",
    "            \n",
    "    #         if smiles == canon_smiles:\n",
    "    #             stats[\"canon_count\"] += 1\n",
    "    #         else:     \n",
    "    #             stats[\"non_canon_count\"] += 1\n",
    "    #     except Exception as error:\n",
    "    #         print(error)\n",
    "    #         stats[\"invalid_count\"] += 1\n"
   ]
  },
  {
   "cell_type": "code",
   "execution_count": 9,
   "id": "3d8e28d5-a796-4eb9-ae3c-3bcfba368d9e",
   "metadata": {},
   "outputs": [
    {
     "data": {
      "text/plain": [
       "('_',\n",
       " {'invalid_count': 0,\n",
       "  'canon_count_[Canon]': 4777,\n",
       "  'canon_count_[Rand]': 21,\n",
       "  'rand_count_[Canon]': 118,\n",
       "  'rand_count_[Rand]': 5084})"
      ]
     },
     "execution_count": 9,
     "metadata": {},
     "output_type": "execute_result"
    }
   ],
   "source": [
    "prompt, stats"
   ]
  },
  {
   "cell_type": "code",
   "execution_count": null,
   "id": "d1b49dfe-2fae-42fc-92f4-985b1045d815",
   "metadata": {},
   "outputs": [],
   "source": []
  },
  {
   "cell_type": "code",
   "execution_count": null,
   "id": "89898659-5147-4129-b964-35bf7b6ccd2a",
   "metadata": {},
   "outputs": [],
   "source": []
  },
  {
   "cell_type": "code",
   "execution_count": null,
   "id": "8a50df3c-dd6f-4323-b8ba-3a8f5c58fafd",
   "metadata": {},
   "outputs": [],
   "source": []
  }
 ],
 "metadata": {
  "kernelspec": {
   "display_name": "Python 3 (ipykernel)",
   "language": "python",
   "name": "python3"
  },
  "language_info": {
   "codemirror_mode": {
    "name": "ipython",
    "version": 3
   },
   "file_extension": ".py",
   "mimetype": "text/x-python",
   "name": "python",
   "nbconvert_exporter": "python",
   "pygments_lexer": "ipython3",
   "version": "3.11.7"
  }
 },
 "nbformat": 4,
 "nbformat_minor": 5
}
