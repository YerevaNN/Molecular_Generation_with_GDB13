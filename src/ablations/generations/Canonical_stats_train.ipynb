{
 "cells": [
  {
   "cell_type": "code",
   "execution_count": 9,
   "id": "34c9aca7-f119-467a-b757-54e8c85c0246",
   "metadata": {},
   "outputs": [],
   "source": [
    "import re\n",
    "import json\n",
    "\n",
    "from rdkit import Chem\n",
    "from tqdm import tqdm\n",
    "import selfies as sf"
   ]
  },
  {
   "cell_type": "code",
   "execution_count": 30,
   "id": "caaa6b7f-7b40-4ce5-b0a3-a48e259d682f",
   "metadata": {},
   "outputs": [],
   "source": [
    "path = \"/home/knarik/GDB_Generation_project/Molecular_Generation_with_GDB13/src/data/data/data_bin_all_rand_sas_3_sf_1000K/valid/00/valid_all_rand_sas_3_sf_10K.jsonl\""
   ]
  },
  {
   "cell_type": "code",
   "execution_count": 31,
   "id": "e2d97358-60b4-408a-bf75-7aae17f4657c",
   "metadata": {},
   "outputs": [],
   "source": [
    "with open(path, \"r\") as f:\n",
    "    data_jsonl = f.read().splitlines()         "
   ]
  },
  {
   "cell_type": "code",
   "execution_count": 32,
   "id": "f8a3a821",
   "metadata": {},
   "outputs": [],
   "source": [
    "data = []\n",
    "\n",
    "for line in data_jsonl:\n",
    "    line_obj = json.loads(line)\n",
    "    data.append(line_obj[\"text\"]) "
   ]
  },
  {
   "cell_type": "code",
   "execution_count": 33,
   "id": "33ab2d7c-d425-4909-a301-ca29b431ac21",
   "metadata": {},
   "outputs": [],
   "source": [
    "data = data[:1000001]"
   ]
  },
  {
   "cell_type": "code",
   "execution_count": 34,
   "id": "400f8d83",
   "metadata": {},
   "outputs": [
    {
     "data": {
      "text/plain": [
       "'[C][Branch2][Ring1][C][C][C][N][=C][Branch1][C][N][N][C][=C][C][=N][C][=Ring1][#Branch2][Ring1][=Branch1][N]'"
      ]
     },
     "execution_count": 34,
     "metadata": {},
     "output_type": "execute_result"
    }
   ],
   "source": [
    "data[0]"
   ]
  },
  {
   "cell_type": "code",
   "execution_count": 35,
   "id": "87df5dd8-c5e0-4b36-978b-6bdc52dda31d",
   "metadata": {},
   "outputs": [],
   "source": [
    "unique_data = list(set(data))"
   ]
  },
  {
   "cell_type": "code",
   "execution_count": 36,
   "id": "da021c25-bc89-49a9-a661-e7a4c632fe94",
   "metadata": {},
   "outputs": [
    {
     "data": {
      "text/plain": [
       "10000"
      ]
     },
     "execution_count": 36,
     "metadata": {},
     "output_type": "execute_result"
    }
   ],
   "source": [
    "len(unique_data)"
   ]
  },
  {
   "cell_type": "code",
   "execution_count": 37,
   "id": "384a3a64-e721-4496-b915-0d4f2084718b",
   "metadata": {},
   "outputs": [
    {
     "name": "stderr",
     "output_type": "stream",
     "text": [
      "100%|██████████| 10000/10000 [00:03<00:00, 2802.34it/s]\n"
     ]
    }
   ],
   "source": [
    "\n",
    "stats = {\n",
    "    \"invalid_count\": 0,\n",
    "    \"canon_count\": 0, \n",
    "    \"rand_count\": 0\n",
    "}\n",
    "\n",
    "for selfies in tqdm(unique_data):\n",
    "    try:\n",
    "        smiles = sf.decoder(selfies)\n",
    "        canon_smiles = Chem.MolToSmiles(Chem.MolFromSmiles(smiles), canonical=True)\n",
    "        canon_selfies = sf.encoder(canon_smiles)\n",
    "        \n",
    "        if selfies == canon_selfies:\n",
    "            stats[\"canon_count\"] += 1\n",
    "        else:     \n",
    "            stats[\"rand_count\"] += 1\n",
    "                \n",
    "    except Exception as error:\n",
    "        print(error)\n",
    "        stats[\"invalid_count\"] += 1\n",
    "        \n",
    "\n",
    "\n",
    "    ## Old algorithm\n",
    "    # for i in tqdm(unique_data):\n",
    "    #     try:\n",
    "    #         selfies = i.split(prompt)[-1]\n",
    "    #         smiles = sf.decoder(selfies)\n",
    "    #         canon_smiles = Chem.MolToSmiles(Chem.MolFromSmiles(smiles), canonical=True)\n",
    "    #         # canon_selfies = sf.encoder(canon_smiles)\n",
    "            \n",
    "    #         if smiles == canon_smiles:\n",
    "    #             stats[\"canon_count\"] += 1\n",
    "    #         else:     \n",
    "    #             stats[\"non_canon_count\"] += 1\n",
    "    #     except Exception as error:\n",
    "    #         print(error)\n",
    "    #         stats[\"invalid_count\"] += 1\n"
   ]
  },
  {
   "cell_type": "code",
   "execution_count": 39,
   "id": "3d8e28d5-a796-4eb9-ae3c-3bcfba368d9e",
   "metadata": {},
   "outputs": [
    {
     "data": {
      "text/plain": [
       "{'invalid_count': 0, 'canon_count': 308, 'rand_count': 9692}"
      ]
     },
     "execution_count": 39,
     "metadata": {},
     "output_type": "execute_result"
    }
   ],
   "source": [
    " stats"
   ]
  },
  {
   "cell_type": "code",
   "execution_count": null,
   "id": "d1b49dfe-2fae-42fc-92f4-985b1045d815",
   "metadata": {},
   "outputs": [],
   "source": []
  },
  {
   "cell_type": "code",
   "execution_count": null,
   "id": "89898659-5147-4129-b964-35bf7b6ccd2a",
   "metadata": {},
   "outputs": [],
   "source": []
  },
  {
   "cell_type": "code",
   "execution_count": null,
   "id": "8a50df3c-dd6f-4323-b8ba-3a8f5c58fafd",
   "metadata": {},
   "outputs": [],
   "source": []
  }
 ],
 "metadata": {
  "kernelspec": {
   "display_name": "Python 3 (ipykernel)",
   "language": "python",
   "name": "python3"
  },
  "language_info": {
   "codemirror_mode": {
    "name": "ipython",
    "version": 3
   },
   "file_extension": ".py",
   "mimetype": "text/x-python",
   "name": "python",
   "nbconvert_exporter": "python",
   "pygments_lexer": "ipython3",
   "version": "3.11.7"
  }
 },
 "nbformat": 4,
 "nbformat_minor": 5
}
