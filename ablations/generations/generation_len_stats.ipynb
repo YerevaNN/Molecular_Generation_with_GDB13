{
 "cells": [
  {
   "cell_type": "code",
   "execution_count": 16,
   "metadata": {},
   "outputs": [],
   "source": [
    "import re\n",
    "import glob\n",
    "import json\n",
    "import random\n",
    "from rdkit import Chem\n",
    "from tqdm import tqdm\n",
    "import pandas as pd\n",
    "import matplotlib.pyplot as plt"
   ]
  },
  {
   "cell_type": "code",
   "execution_count": 17,
   "metadata": {},
   "outputs": [
    {
     "data": {
      "text/plain": [
       "['OPT_1.2B_ep_1_aspirin_0.4_sf_1000K_gen_1000000_converted_selfies.jsonl',\n",
       " 'OPT_1.2B_ep_1_druglike_0.4_sf_1000K_gen_1000000_converted_selfies.jsonl',\n",
       " 'OPT_1.2B_ep_1_equal_dist_sf_1000K_gen_1000000__converted_selfies.jsonl',\n",
       " 'OPT_1.2B_ep_1_sas_3_sf_1000K_gen_1000000_converted_selfies.jsonl']"
      ]
     },
     "execution_count": 17,
     "metadata": {},
     "output_type": "execute_result"
    }
   ],
   "source": [
    "paths = glob.glob(\"*_converted_selfies.jsonl\")\n",
    "paths"
   ]
  },
  {
   "cell_type": "code",
   "execution_count": 18,
   "metadata": {},
   "outputs": [
    {
     "name": "stderr",
     "output_type": "stream",
     "text": [
      "1000192it [00:01, 518106.17it/s]\n",
      "1000192it [00:01, 528074.03it/s]\n",
      "1000192it [00:01, 529150.15it/s]\n",
      "1000192it [00:01, 520175.50it/s]\n"
     ]
    }
   ],
   "source": [
    "selfies_data = {}\n",
    "\n",
    "for path in paths:\n",
    "    subset_name = path.split(\"ep_1_\")[1].split(\"_sf\")[0]\n",
    "    selfies_data[subset_name] = []\n",
    "\n",
    "    with open(path, \"r\") as file_1:\n",
    "        for line_str in tqdm(file_1):\n",
    "            line_obj = json.loads(line_str)\n",
    "            selfies_data[subset_name].append(line_obj[\"text\"])"
   ]
  },
  {
   "cell_type": "code",
   "execution_count": 19,
   "metadata": {},
   "outputs": [
    {
     "data": {
      "text/plain": [
       "['[C][C][O][C][O][C][Ring1][Branch1][C][=C][C][Ring1][=Branch1][Branch1][C][O][C][Ring1][#Branch2][C][=O]',\n",
       " '[C][=C][C][=C][C][Branch1][Ring1][O][C][=C][C][Branch1][Ring1][C][=C][C][Ring1][=Branch2][O]',\n",
       " '[C][C][Branch1][C][O][C][C][=C][Branch1][Ring1][C][=O][C][C][Ring1][#Branch1][=O]']"
      ]
     },
     "execution_count": 19,
     "metadata": {},
     "output_type": "execute_result"
    }
   ],
   "source": [
    "selfies_data[\"aspirin_0.4\"][:3]"
   ]
  },
  {
   "cell_type": "code",
   "execution_count": 20,
   "metadata": {},
   "outputs": [
    {
     "data": {
      "text/plain": [
       "['[C]',\n",
       " '[C]',\n",
       " '[O]',\n",
       " '[C]',\n",
       " '[O]',\n",
       " '[C]',\n",
       " '[Ring1]',\n",
       " '[Branch1]',\n",
       " '[C]',\n",
       " '[=C]',\n",
       " '[C]',\n",
       " '[Ring1]',\n",
       " '[=Branch1]',\n",
       " '[Branch1]',\n",
       " '[C]',\n",
       " '[O]',\n",
       " '[C]',\n",
       " '[Ring1]',\n",
       " '[#Branch2]',\n",
       " '[C]',\n",
       " '[=O]']"
      ]
     },
     "execution_count": 20,
     "metadata": {},
     "output_type": "execute_result"
    }
   ],
   "source": [
    "tokens = re.findall(r'\\[.*?\\]', selfies_data[\"aspirin_0.4\"][0])\n",
    "tokens"
   ]
  },
  {
   "cell_type": "code",
   "execution_count": 21,
   "metadata": {},
   "outputs": [],
   "source": [
    "# making unique counts\n",
    "for k in selfies_data:\n",
    "    selfies_data[k] = list(set(selfies_data[k]))[:939618]"
   ]
  },
  {
   "cell_type": "code",
   "execution_count": 26,
   "metadata": {},
   "outputs": [
    {
     "data": {
      "text/html": [
       "<div>\n",
       "<style scoped>\n",
       "    .dataframe tbody tr th:only-of-type {\n",
       "        vertical-align: middle;\n",
       "    }\n",
       "\n",
       "    .dataframe tbody tr th {\n",
       "        vertical-align: top;\n",
       "    }\n",
       "\n",
       "    .dataframe thead th {\n",
       "        text-align: right;\n",
       "    }\n",
       "</style>\n",
       "<table border=\"1\" class=\"dataframe\">\n",
       "  <thead>\n",
       "    <tr style=\"text-align: right;\">\n",
       "      <th></th>\n",
       "      <th>aspirin_0.4</th>\n",
       "      <th>druglike_0.4</th>\n",
       "      <th>equal_dist</th>\n",
       "      <th>sas_3</th>\n",
       "    </tr>\n",
       "  </thead>\n",
       "  <tbody>\n",
       "    <tr>\n",
       "      <th>0</th>\n",
       "      <td>[C][C][=C][C][C][Branch1][C][O][C][=Branch1][C...</td>\n",
       "      <td>[C][C][C][=C][Branch1][Ring1][C][O][C][C][C][=...</td>\n",
       "      <td>[N][N][=C][C][O][C][=C][C][Ring1][Branch1][N][...</td>\n",
       "      <td>[C][C][C][=C][C][C][C][C][Branch1][C][N][C][C]...</td>\n",
       "    </tr>\n",
       "    <tr>\n",
       "      <th>1</th>\n",
       "      <td>[C][C][Branch1][C][O][C][C][Ring1][Ring2][Bran...</td>\n",
       "      <td>[C][C][=C][O][C][C][=Branch1][C][=N][N][C][=Br...</td>\n",
       "      <td>[O][=C][O][C][Branch1][#Branch1][C][C][C][Ring...</td>\n",
       "      <td>[C][C][=N][N][=C][Branch1][C][N][C][Branch1][#...</td>\n",
       "    </tr>\n",
       "    <tr>\n",
       "      <th>2</th>\n",
       "      <td>[C][C][=C][C][=Branch1][C][=O][C][Branch1][C][...</td>\n",
       "      <td>[C][C][=Branch1][C][=O][N][C][C][Branch1][C][C...</td>\n",
       "      <td>[O][=S][=Branch1][C][=O][N][C][=C][C][=C][C][C...</td>\n",
       "      <td>[C][C][C][=N][C][=C][C][Branch1][C][C][=C][O][...</td>\n",
       "    </tr>\n",
       "    <tr>\n",
       "      <th>3</th>\n",
       "      <td>[C][=C][Branch1][Ring1][C][C][O][C][=C][O][C][...</td>\n",
       "      <td>[C][O][C][C][C][=Branch1][C][=O][C][Branch1][=...</td>\n",
       "      <td>[C][=N][N][C][C][=C][Branch1][=Branch1][C][Bra...</td>\n",
       "      <td>[C][C][C][C][=N][N][C][=Branch1][C][=O][C][=C]...</td>\n",
       "    </tr>\n",
       "    <tr>\n",
       "      <th>4</th>\n",
       "      <td>[C][C][C][=C][Branch1][#Branch1][C][Branch1][C...</td>\n",
       "      <td>[C][C][C][C][C][=C][NH1][C][Branch1][C][O][=C]...</td>\n",
       "      <td>[O][C][C][C][Branch1][C][O][C][C][N][Ring1][Ri...</td>\n",
       "      <td>[C][=C][C][=Branch1][C][=C][C][C][O][C][C][=Br...</td>\n",
       "    </tr>\n",
       "  </tbody>\n",
       "</table>\n",
       "</div>"
      ],
      "text/plain": [
       "                                         aspirin_0.4   \n",
       "0  [C][C][=C][C][C][Branch1][C][O][C][=Branch1][C...  \\\n",
       "1  [C][C][Branch1][C][O][C][C][Ring1][Ring2][Bran...   \n",
       "2  [C][C][=C][C][=Branch1][C][=O][C][Branch1][C][...   \n",
       "3  [C][=C][Branch1][Ring1][C][C][O][C][=C][O][C][...   \n",
       "4  [C][C][C][=C][Branch1][#Branch1][C][Branch1][C...   \n",
       "\n",
       "                                        druglike_0.4   \n",
       "0  [C][C][C][=C][Branch1][Ring1][C][O][C][C][C][=...  \\\n",
       "1  [C][C][=C][O][C][C][=Branch1][C][=N][N][C][=Br...   \n",
       "2  [C][C][=Branch1][C][=O][N][C][C][Branch1][C][C...   \n",
       "3  [C][O][C][C][C][=Branch1][C][=O][C][Branch1][=...   \n",
       "4  [C][C][C][C][C][=C][NH1][C][Branch1][C][O][=C]...   \n",
       "\n",
       "                                          equal_dist   \n",
       "0  [N][N][=C][C][O][C][=C][C][Ring1][Branch1][N][...  \\\n",
       "1  [O][=C][O][C][Branch1][#Branch1][C][C][C][Ring...   \n",
       "2  [O][=S][=Branch1][C][=O][N][C][=C][C][=C][C][C...   \n",
       "3  [C][=N][N][C][C][=C][Branch1][=Branch1][C][Bra...   \n",
       "4  [O][C][C][C][Branch1][C][O][C][C][N][Ring1][Ri...   \n",
       "\n",
       "                                               sas_3  \n",
       "0  [C][C][C][=C][C][C][C][C][Branch1][C][N][C][C]...  \n",
       "1  [C][C][=N][N][=C][Branch1][C][N][C][Branch1][#...  \n",
       "2  [C][C][C][=N][C][=C][C][Branch1][C][C][=C][O][...  \n",
       "3  [C][C][C][C][=N][N][C][=Branch1][C][=O][C][=C]...  \n",
       "4  [C][=C][C][=Branch1][C][=C][C][C][O][C][C][=Br...  "
      ]
     },
     "execution_count": 26,
     "metadata": {},
     "output_type": "execute_result"
    }
   ],
   "source": [
    "df = pd.DataFrame(selfies_data)\n",
    "# df = df[:1_000_000]\n",
    "df.head()"
   ]
  },
  {
   "cell_type": "code",
   "execution_count": 27,
   "metadata": {},
   "outputs": [
    {
     "data": {
      "text/plain": [
       "939618"
      ]
     },
     "execution_count": 27,
     "metadata": {},
     "output_type": "execute_result"
    }
   ],
   "source": [
    "len(df)"
   ]
  },
  {
   "cell_type": "code",
   "execution_count": 28,
   "metadata": {},
   "outputs": [],
   "source": [
    "for k in selfies_data:\n",
    "    df[f\"{k}_lengths\"] = df[k].apply(lambda x: x.count(\"[\"))"
   ]
  },
  {
   "cell_type": "code",
   "execution_count": 29,
   "metadata": {},
   "outputs": [
    {
     "data": {
      "text/html": [
       "<div>\n",
       "<style scoped>\n",
       "    .dataframe tbody tr th:only-of-type {\n",
       "        vertical-align: middle;\n",
       "    }\n",
       "\n",
       "    .dataframe tbody tr th {\n",
       "        vertical-align: top;\n",
       "    }\n",
       "\n",
       "    .dataframe thead th {\n",
       "        text-align: right;\n",
       "    }\n",
       "</style>\n",
       "<table border=\"1\" class=\"dataframe\">\n",
       "  <thead>\n",
       "    <tr style=\"text-align: right;\">\n",
       "      <th></th>\n",
       "      <th>aspirin_0.4</th>\n",
       "      <th>druglike_0.4</th>\n",
       "      <th>equal_dist</th>\n",
       "      <th>sas_3</th>\n",
       "      <th>aspirin_0.4_lengths</th>\n",
       "      <th>druglike_0.4_lengths</th>\n",
       "      <th>equal_dist_lengths</th>\n",
       "      <th>sas_3_lengths</th>\n",
       "    </tr>\n",
       "  </thead>\n",
       "  <tbody>\n",
       "    <tr>\n",
       "      <th>0</th>\n",
       "      <td>[C][C][=C][C][C][Branch1][C][O][C][=Branch1][C...</td>\n",
       "      <td>[C][C][C][=C][Branch1][Ring1][C][O][C][C][C][=...</td>\n",
       "      <td>[N][N][=C][C][O][C][=C][C][Ring1][Branch1][N][...</td>\n",
       "      <td>[C][C][C][=C][C][C][C][C][Branch1][C][N][C][C]...</td>\n",
       "      <td>25</td>\n",
       "      <td>21</td>\n",
       "      <td>19</td>\n",
       "      <td>15</td>\n",
       "    </tr>\n",
       "    <tr>\n",
       "      <th>1</th>\n",
       "      <td>[C][C][Branch1][C][O][C][C][Ring1][Ring2][Bran...</td>\n",
       "      <td>[C][C][=C][O][C][C][=Branch1][C][=N][N][C][=Br...</td>\n",
       "      <td>[O][=C][O][C][Branch1][#Branch1][C][C][C][Ring...</td>\n",
       "      <td>[C][C][=N][N][=C][Branch1][C][N][C][Branch1][#...</td>\n",
       "      <td>23</td>\n",
       "      <td>19</td>\n",
       "      <td>21</td>\n",
       "      <td>23</td>\n",
       "    </tr>\n",
       "    <tr>\n",
       "      <th>2</th>\n",
       "      <td>[C][C][=C][C][=Branch1][C][=O][C][Branch1][C][...</td>\n",
       "      <td>[C][C][=Branch1][C][=O][N][C][C][Branch1][C][C...</td>\n",
       "      <td>[O][=S][=Branch1][C][=O][N][C][=C][C][=C][C][C...</td>\n",
       "      <td>[C][C][C][=N][C][=C][C][Branch1][C][C][=C][O][...</td>\n",
       "      <td>23</td>\n",
       "      <td>21</td>\n",
       "      <td>21</td>\n",
       "      <td>19</td>\n",
       "    </tr>\n",
       "    <tr>\n",
       "      <th>3</th>\n",
       "      <td>[C][=C][Branch1][Ring1][C][C][O][C][=C][O][C][...</td>\n",
       "      <td>[C][O][C][C][C][=Branch1][C][=O][C][Branch1][=...</td>\n",
       "      <td>[C][=N][N][C][C][=C][Branch1][=Branch1][C][Bra...</td>\n",
       "      <td>[C][C][C][C][=N][N][C][=Branch1][C][=O][C][=C]...</td>\n",
       "      <td>18</td>\n",
       "      <td>21</td>\n",
       "      <td>18</td>\n",
       "      <td>17</td>\n",
       "    </tr>\n",
       "    <tr>\n",
       "      <th>4</th>\n",
       "      <td>[C][C][C][=C][Branch1][#Branch1][C][Branch1][C...</td>\n",
       "      <td>[C][C][C][C][C][=C][NH1][C][Branch1][C][O][=C]...</td>\n",
       "      <td>[O][C][C][C][Branch1][C][O][C][C][N][Ring1][Ri...</td>\n",
       "      <td>[C][=C][C][=Branch1][C][=C][C][C][O][C][C][=Br...</td>\n",
       "      <td>23</td>\n",
       "      <td>19</td>\n",
       "      <td>25</td>\n",
       "      <td>16</td>\n",
       "    </tr>\n",
       "    <tr>\n",
       "      <th>5</th>\n",
       "      <td>[C][O][C][C][C][=Branch1][C][=O][C][Branch1][R...</td>\n",
       "      <td>[C][C][C][C][Branch1][Ring1][C][=O][N][C][=C][...</td>\n",
       "      <td>[C][C][C][Branch1][Ring1][C][O][N][Ring1][Bran...</td>\n",
       "      <td>[C][C][=C][C][Branch1][#Branch1][N][C][Branch1...</td>\n",
       "      <td>21</td>\n",
       "      <td>21</td>\n",
       "      <td>19</td>\n",
       "      <td>23</td>\n",
       "    </tr>\n",
       "    <tr>\n",
       "      <th>6</th>\n",
       "      <td>[C][=C][Branch1][Branch2][O][C][=C][O][C][C][=...</td>\n",
       "      <td>[C][N][C][=C][Branch1][C][O][NH1][C][=Branch1]...</td>\n",
       "      <td>[C][N][C][C][C][Ring1][Ring1][C][Branch1][C][N...</td>\n",
       "      <td>[O][=C][C][C][Branch1][O][C][C][=C][C][=C][C][...</td>\n",
       "      <td>17</td>\n",
       "      <td>20</td>\n",
       "      <td>25</td>\n",
       "      <td>19</td>\n",
       "    </tr>\n",
       "    <tr>\n",
       "      <th>7</th>\n",
       "      <td>[C][=C][C][C][=Branch1][C][=C][O][C][Branch1][...</td>\n",
       "      <td>[C][#C][C][=Branch1][C][=O][C][=Branch1][C][=O...</td>\n",
       "      <td>[C][O][C][C][O][C][C][C][C][Branch1][Ring1][C]...</td>\n",
       "      <td>[C][O][C][=C][C][=C][C][Branch1][#Branch1][O][...</td>\n",
       "      <td>23</td>\n",
       "      <td>19</td>\n",
       "      <td>21</td>\n",
       "      <td>19</td>\n",
       "    </tr>\n",
       "    <tr>\n",
       "      <th>8</th>\n",
       "      <td>[C][=C][C][C][C][Branch1][Branch1][C][Ring1][R...</td>\n",
       "      <td>[C][N][C][=C][NH1][C][=C][N][=C][Ring1][=Branc...</td>\n",
       "      <td>[C][#C][C][Branch1][C][O][C][N][C][C][C][N][C]...</td>\n",
       "      <td>[C][C][NH1][C][=C][Branch1][Ring1][C][N][C][Br...</td>\n",
       "      <td>25</td>\n",
       "      <td>17</td>\n",
       "      <td>21</td>\n",
       "      <td>21</td>\n",
       "    </tr>\n",
       "    <tr>\n",
       "      <th>9</th>\n",
       "      <td>[C][=C][C][O][C][Branch1][Branch2][C][=Branch1...</td>\n",
       "      <td>[C][C][=C][Branch1][Branch2][O][C][C][Branch1]...</td>\n",
       "      <td>[C][=C][O][C][C][C][Ring1][Branch1][C][Branch1...</td>\n",
       "      <td>[C][C][=N][C][Branch1][#Branch2][C][C][N][Bran...</td>\n",
       "      <td>21</td>\n",
       "      <td>21</td>\n",
       "      <td>21</td>\n",
       "      <td>21</td>\n",
       "    </tr>\n",
       "  </tbody>\n",
       "</table>\n",
       "</div>"
      ],
      "text/plain": [
       "                                         aspirin_0.4   \n",
       "0  [C][C][=C][C][C][Branch1][C][O][C][=Branch1][C...  \\\n",
       "1  [C][C][Branch1][C][O][C][C][Ring1][Ring2][Bran...   \n",
       "2  [C][C][=C][C][=Branch1][C][=O][C][Branch1][C][...   \n",
       "3  [C][=C][Branch1][Ring1][C][C][O][C][=C][O][C][...   \n",
       "4  [C][C][C][=C][Branch1][#Branch1][C][Branch1][C...   \n",
       "5  [C][O][C][C][C][=Branch1][C][=O][C][Branch1][R...   \n",
       "6  [C][=C][Branch1][Branch2][O][C][=C][O][C][C][=...   \n",
       "7  [C][=C][C][C][=Branch1][C][=C][O][C][Branch1][...   \n",
       "8  [C][=C][C][C][C][Branch1][Branch1][C][Ring1][R...   \n",
       "9  [C][=C][C][O][C][Branch1][Branch2][C][=Branch1...   \n",
       "\n",
       "                                        druglike_0.4   \n",
       "0  [C][C][C][=C][Branch1][Ring1][C][O][C][C][C][=...  \\\n",
       "1  [C][C][=C][O][C][C][=Branch1][C][=N][N][C][=Br...   \n",
       "2  [C][C][=Branch1][C][=O][N][C][C][Branch1][C][C...   \n",
       "3  [C][O][C][C][C][=Branch1][C][=O][C][Branch1][=...   \n",
       "4  [C][C][C][C][C][=C][NH1][C][Branch1][C][O][=C]...   \n",
       "5  [C][C][C][C][Branch1][Ring1][C][=O][N][C][=C][...   \n",
       "6  [C][N][C][=C][Branch1][C][O][NH1][C][=Branch1]...   \n",
       "7  [C][#C][C][=Branch1][C][=O][C][=Branch1][C][=O...   \n",
       "8  [C][N][C][=C][NH1][C][=C][N][=C][Ring1][=Branc...   \n",
       "9  [C][C][=C][Branch1][Branch2][O][C][C][Branch1]...   \n",
       "\n",
       "                                          equal_dist   \n",
       "0  [N][N][=C][C][O][C][=C][C][Ring1][Branch1][N][...  \\\n",
       "1  [O][=C][O][C][Branch1][#Branch1][C][C][C][Ring...   \n",
       "2  [O][=S][=Branch1][C][=O][N][C][=C][C][=C][C][C...   \n",
       "3  [C][=N][N][C][C][=C][Branch1][=Branch1][C][Bra...   \n",
       "4  [O][C][C][C][Branch1][C][O][C][C][N][Ring1][Ri...   \n",
       "5  [C][C][C][Branch1][Ring1][C][O][N][Ring1][Bran...   \n",
       "6  [C][N][C][C][C][Ring1][Ring1][C][Branch1][C][N...   \n",
       "7  [C][O][C][C][O][C][C][C][C][Branch1][Ring1][C]...   \n",
       "8  [C][#C][C][Branch1][C][O][C][N][C][C][C][N][C]...   \n",
       "9  [C][=C][O][C][C][C][Ring1][Branch1][C][Branch1...   \n",
       "\n",
       "                                               sas_3  aspirin_0.4_lengths   \n",
       "0  [C][C][C][=C][C][C][C][C][Branch1][C][N][C][C]...                   25  \\\n",
       "1  [C][C][=N][N][=C][Branch1][C][N][C][Branch1][#...                   23   \n",
       "2  [C][C][C][=N][C][=C][C][Branch1][C][C][=C][O][...                   23   \n",
       "3  [C][C][C][C][=N][N][C][=Branch1][C][=O][C][=C]...                   18   \n",
       "4  [C][=C][C][=Branch1][C][=C][C][C][O][C][C][=Br...                   23   \n",
       "5  [C][C][=C][C][Branch1][#Branch1][N][C][Branch1...                   21   \n",
       "6  [O][=C][C][C][Branch1][O][C][C][=C][C][=C][C][...                   17   \n",
       "7  [C][O][C][=C][C][=C][C][Branch1][#Branch1][O][...                   23   \n",
       "8  [C][C][NH1][C][=C][Branch1][Ring1][C][N][C][Br...                   25   \n",
       "9  [C][C][=N][C][Branch1][#Branch2][C][C][N][Bran...                   21   \n",
       "\n",
       "   druglike_0.4_lengths  equal_dist_lengths  sas_3_lengths  \n",
       "0                    21                  19             15  \n",
       "1                    19                  21             23  \n",
       "2                    21                  21             19  \n",
       "3                    21                  18             17  \n",
       "4                    19                  25             16  \n",
       "5                    21                  19             23  \n",
       "6                    20                  25             19  \n",
       "7                    19                  21             19  \n",
       "8                    17                  21             21  \n",
       "9                    21                  21             21  "
      ]
     },
     "execution_count": 29,
     "metadata": {},
     "output_type": "execute_result"
    }
   ],
   "source": [
    "df[:10]"
   ]
  },
  {
   "cell_type": "code",
   "execution_count": 33,
   "metadata": {},
   "outputs": [
    {
     "data": {
      "image/png": "[encoded data removed]",
      "text/plain": [
       "<Figure size 1000x800 with 1 Axes>"
      ]
     },
     "metadata": {},
     "output_type": "display_data"
    }
   ],
   "source": [
    "plt.figure(figsize=(10,8))\n",
    "bins=20\n",
    "\n",
    "ploted_df = df[[\"aspirin_0.4_lengths\", \"sas_3_lengths\", \"druglike_0.4_lengths\", \"equal_dist_lengths\"]]\n",
    "\n",
    "for k in ploted_df.columns:    \n",
    "    ploted_df[k].hist(bins=bins, alpha=1, range=(1.3, 31), histtype = 'step')\n",
    "\n",
    "\n",
    "plt.xlabel(\"Selfies sequence length\")\n",
    "plt.ylabel(\"Frequency\")\n",
    "# plt.yscale(\"log\")\n",
    "plt.title(f\"Distributions of Generated Unique Selfies Lengths by Subsets [bins={bins}]\");\n",
    "plt.legend([x.split(\"_len\")[0] for x in ploted_df.columns], loc='upper right');"
   ]
  },
  {
   "cell_type": "code",
   "execution_count": 2,
   "metadata": {},
   "outputs": [],
   "source": [
    "def randomize_smiles(mol, random_type=\"restricted\"):\n",
    "    if not mol:\n",
    "        return None\n",
    "\n",
    "    if random_type == \"unrestricted\":\n",
    "        return Chem.MolToSmiles(mol, canonical=False, doRandom=True, isomericSmiles=False)\n",
    "    \n",
    "    if random_type == \"restricted\":\n",
    "        new_atom_order = list(range(mol.GetNumHeavyAtoms()))\n",
    "        random.shuffle(new_atom_order)\n",
    "        random_mol = Chem.RenumberAtoms(mol, newOrder=new_atom_order)\n",
    "        return Chem.MolToSmiles(random_mol, canonical=False, isomericSmiles=False)\n",
    "    \n",
    "    raise ValueError(\"Type '{}' is not valid\".format(random_type))"
   ]
  },
  {
   "cell_type": "code",
   "execution_count": 35,
   "metadata": {},
   "outputs": [],
   "source": [
    "sm = \"CCC1COC2CNC1C2(N)CC\""
   ]
  },
  {
   "cell_type": "code",
   "execution_count": 36,
   "metadata": {},
   "outputs": [
    {
     "data": {
      "text/plain": [
       "<rdkit.Chem.rdchem.Mol at 0x7f579efdd1c0>"
      ]
     },
     "execution_count": 36,
     "metadata": {},
     "output_type": "execute_result"
    }
   ],
   "source": [
    "mol = Chem.MolFromSmiles(sm)\n",
    "mol"
   ]
  },
  {
   "cell_type": "code",
   "execution_count": 37,
   "metadata": {},
   "outputs": [
    {
     "data": {
      "text/plain": [
       "13"
      ]
     },
     "execution_count": 37,
     "metadata": {},
     "output_type": "execute_result"
    }
   ],
   "source": [
    "mol.GetNumHeavyAtoms()"
   ]
  },
  {
   "cell_type": "code",
   "execution_count": 38,
   "metadata": {},
   "outputs": [],
   "source": [
    "new_atom_order = list(range(mol.GetNumHeavyAtoms()))\n"
   ]
  },
  {
   "cell_type": "code",
   "execution_count": 39,
   "metadata": {},
   "outputs": [
    {
     "data": {
      "text/plain": [
       "[0, 1, 2, 3, 4, 5, 6, 7, 8, 9, 10, 11, 12]"
      ]
     },
     "execution_count": 39,
     "metadata": {},
     "output_type": "execute_result"
    }
   ],
   "source": [
    "new_atom_order"
   ]
  },
  {
   "cell_type": "code",
   "execution_count": 44,
   "metadata": {},
   "outputs": [],
   "source": [
    "random.shuffle(new_atom_order)"
   ]
  },
  {
   "cell_type": "code",
   "execution_count": 45,
   "metadata": {},
   "outputs": [
    {
     "data": {
      "text/plain": [
       "[4, 1, 10, 7, 3, 11, 0, 2, 9, 6, 5, 8, 12]"
      ]
     },
     "execution_count": 45,
     "metadata": {},
     "output_type": "execute_result"
    }
   ],
   "source": [
    "new_atom_order"
   ]
  },
  {
   "cell_type": "code",
   "execution_count": 1,
   "metadata": {},
   "outputs": [],
   "source": [
    "from itertools import permutations"
   ]
  },
  {
   "cell_type": "code",
   "execution_count": null,
   "metadata": {},
   "outputs": [
    {
     "ename": "",
     "evalue": "",
     "output_type": "error",
     "traceback": [
      "\u001b[1;31mThe Kernel crashed while executing code in the the current cell or a previous cell. Please review the code in the cell(s) to identify a possible cause of the failure. Click <a href='https://aka.ms/vscodeJupyterKernelCrash'>here</a> for more info. View Jupyter <a href='command:jupyter.viewOutput'>log</a> for further details."
     ]
    }
   ],
   "source": [
    "all_possibilities = list(permutations(range(12)))"
   ]
  },
  {
   "cell_type": "code",
   "execution_count": null,
   "metadata": {},
   "outputs": [
    {
     "data": {
      "text/plain": [
       "3628800"
      ]
     },
     "execution_count": 12,
     "metadata": {},
     "output_type": "execute_result"
    }
   ],
   "source": [
    "len(all_possibilities)"
   ]
  },
  {
   "cell_type": "code",
   "execution_count": 1,
   "metadata": {},
   "outputs": [],
   "source": [
    "import math\n"
   ]
  },
  {
   "cell_type": "code",
   "execution_count": 15,
   "metadata": {},
   "outputs": [
    {
     "data": {
      "text/plain": [
       "120"
      ]
     },
     "execution_count": 15,
     "metadata": {},
     "output_type": "execute_result"
    }
   ],
   "source": [
    "math.factorial(5)"
   ]
  },
  {
   "cell_type": "code",
   "execution_count": 9,
   "metadata": {},
   "outputs": [],
   "source": [
    "sm=\"C=C1OCC(C(C)C=CC)C12CO2\""
   ]
  },
  {
   "cell_type": "code",
   "execution_count": 11,
   "metadata": {},
   "outputs": [
    {
     "data": {
      "text/plain": [
       "13"
      ]
     },
     "execution_count": 11,
     "metadata": {},
     "output_type": "execute_result"
    }
   ],
   "source": [
    "Chem.MolFromSmiles(sm).GetNumHeavyAtoms()"
   ]
  },
  {
   "cell_type": "code",
   "execution_count": null,
   "metadata": {},
   "outputs": [],
   "source": [
    "random_mol = Chem.RenumberAtoms(mol, newOrder=new_atom_order)"
   ]
  }
 ],
 "metadata": {
  "kernelspec": {
   "display_name": "molgen",
   "language": "python",
   "name": "python3"
  },
  "language_info": {
   "codemirror_mode": {
    "name": "ipython",
    "version": 3
   },
   "file_extension": ".py",
   "mimetype": "text/x-python",
   "name": "python",
   "nbconvert_exporter": "python",
   "pygments_lexer": "ipython3",
   "version": "3.10.12"
  },
  "orig_nbformat": 4
 },
 "nbformat": 4,
 "nbformat_minor": 2
}
